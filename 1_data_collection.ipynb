{
 "cells": [
  {
   "cell_type": "markdown",
   "metadata": {},
   "source": [
    "# Song Genre Classification\n",
    "## Part 1: Data Collection\n",
    "\n",
    "### About:\n",
    "- most data from  [AZLyrics Song Lyrics Dataset](https://www.kaggle.com/albertsuarez/azlyrics)\n",
    "- rap lyrics from [Hip-Hop Encounters Data Science Dataset](https://www.kaggle.com/rikdifos/rap-lyrics\n",
    "- folk + blues extra data from https://www.musixmatch.com\n",
    "- genre classification from https://www.musixmatch.com"
   ]
  },
  {
   "cell_type": "markdown",
   "metadata": {},
   "source": [
    "### Connect to musixmatch API"
   ]
  },
  {
   "cell_type": "code",
   "execution_count": 3,
   "metadata": {},
   "outputs": [],
   "source": [
    "!pip install --quiet pymusixmatch"
   ]
  },
  {
   "cell_type": "code",
   "execution_count": 460,
   "metadata": {},
   "outputs": [],
   "source": [
    "TOKEN = 'e95a15b62b47164882a8caed43b50749'"
   ]
  },
  {
   "cell_type": "code",
   "execution_count": 461,
   "metadata": {},
   "outputs": [],
   "source": [
    "from musixmatch import Musixmatch\n",
    "\n",
    "\n",
    "musixmatch = Musixmatch(TOKEN)"
   ]
  },
  {
   "cell_type": "markdown",
   "metadata": {},
   "source": [
    "### Load data"
   ]
  },
  {
   "cell_type": "code",
   "execution_count": 98,
   "metadata": {},
   "outputs": [
    {
     "name": "stdout",
     "output_type": "stream",
     "text": [
      "27 CSV files extracted.\n"
     ]
    },
    {
     "data": {
      "application/vnd.jupyter.widget-view+json": {
       "model_id": "c3a3dc56e00546f3942f4376d9c43557",
       "version_major": 2,
       "version_minor": 0
      },
      "text/plain": [
       "HBox(children=(FloatProgress(value=0.0, max=27.0), HTML(value='')))"
      ]
     },
     "metadata": {},
     "output_type": "display_data"
    },
    {
     "name": "stdout",
     "output_type": "stream",
     "text": [
      "./azlyrics-scraper/azlyrics_lyrics_19.csv: 868 songs.\n",
      "./azlyrics-scraper/azlyrics_lyrics_g.csv: 4542 songs.\n",
      "./azlyrics-scraper/azlyrics_lyrics_p.csv: 5578 songs.\n",
      "./azlyrics-scraper/azlyrics_lyrics_q.csv: 386 songs.\n",
      "./azlyrics-scraper/azlyrics_lyrics_f.csv: 2450 songs.\n",
      "./azlyrics-scraper/azlyrics_lyrics_d.csv: 6349 songs.\n",
      "./azlyrics-scraper/azlyrics_lyrics_s.csv: 12703 songs.\n",
      "./azlyrics-scraper/azlyrics_lyrics_r.csv: 3757 songs.\n",
      "./azlyrics-scraper/azlyrics_lyrics_e.csv: 5414 songs.\n",
      "./azlyrics-scraper/azlyrics_lyrics_v.csv: 1432 songs.\n",
      "./azlyrics-scraper/azlyrics_lyrics_a.csv: 13046 songs.\n",
      "./azlyrics-scraper/azlyrics_lyrics_w.csv: 4697 songs.\n",
      "./azlyrics-scraper/azlyrics_lyrics_u.csv: 877 songs.\n",
      "./azlyrics-scraper/azlyrics_lyrics_b.csv: 22672 songs.\n",
      "./azlyrics-scraper/azlyrics_lyrics_c.csv: 10296 songs.\n",
      "./azlyrics-scraper/azlyrics_lyrics_t.csv: 5157 songs.\n",
      "./azlyrics-scraper/azlyrics_lyrics_y.csv: 1183 songs.\n",
      "./azlyrics-scraper/azlyrics_lyrics_n.csv: 3052 songs.\n",
      "./azlyrics-scraper/azlyrics_lyrics_o.csv: 869 songs.\n",
      "./azlyrics-scraper/azlyrics_lyrics_x.csv: 317 songs.\n",
      "./azlyrics-scraper/azlyrics_lyrics_z.csv: 833 songs.\n",
      "./azlyrics-scraper/azlyrics_lyrics_m.csv: 12239 songs.\n",
      "./azlyrics-scraper/azlyrics_lyrics_l.csv: 6151 songs.\n",
      "./azlyrics-scraper/azlyrics_lyrics_h.csv: 4258 songs.\n",
      "./azlyrics-scraper/azlyrics_lyrics_i.csv: 2161 songs.\n",
      "./azlyrics-scraper/azlyrics_lyrics_k.csv: 4610 songs.\n",
      "./azlyrics-scraper/azlyrics_lyrics_j.csv: 11975 songs.\n",
      "\n",
      "Total: 147872\n"
     ]
    }
   ],
   "source": [
    "import csv\n",
    "import glob\n",
    "from tqdm.auto import tqdm\n",
    "\n",
    "\n",
    "def _get_csv_file_list(unzipping_output_folder):\n",
    "    \"\"\"\n",
    "    Extract all the csv file paths given the folder path.\n",
    "    :param unzipping_output_folder: Folder path.\n",
    "    :return: List of CSV file paths.\n",
    "    \"\"\"\n",
    "    csv_file_list = [i for i in glob.glob(f'{unzipping_output_folder}/**/*.csv')]\n",
    "    print(f'{len(csv_file_list)} CSV files extracted.')\n",
    "    return csv_file_list\n",
    "\n",
    "\n",
    "def _read(csv_file_list):\n",
    "    \"\"\"\n",
    "    Read the list of data CSVs.\n",
    "    :param csv_file_list: List of CSV file paths where the data is.\n",
    "    :return: CSVs read.\n",
    "    \"\"\"\n",
    "    data = []\n",
    "    total = 0\n",
    "    for csv_file_name in tqdm(csv_file_list):\n",
    "        with open(csv_file_name, 'r') as csv_file:\n",
    "            rows = [row for row in csv.reader(csv_file) if row][1:]\n",
    "            total += len(rows)\n",
    "            data += rows\n",
    "            print(f'{csv_file_name}: {len(rows)} songs.')\n",
    "    print(f'Total: {total}')\n",
    "    return data\n",
    "            \n",
    "            \n",
    "data_folder = './'\n",
    "csv_file_list = _get_csv_file_list(data_folder)\n",
    "data = _read(csv_file_list)"
   ]
  },
  {
   "cell_type": "code",
   "execution_count": 123,
   "metadata": {},
   "outputs": [],
   "source": [
    "import pandas as pd\n",
    "\n",
    "\n",
    "data = pd.DataFrame(data)\n",
    "data = data[[0, 1, 2, 3, 4]]"
   ]
  },
  {
   "cell_type": "code",
   "execution_count": 125,
   "metadata": {},
   "outputs": [],
   "source": [
    "data = data.rename(columns={0:'author', \n",
    "                            1: 'author_url', \n",
    "                            2: 'song',\n",
    "                            3: 'song_url',\n",
    "                            4: 'lyrics'})"
   ]
  },
  {
   "cell_type": "code",
   "execution_count": 127,
   "metadata": {},
   "outputs": [
    {
     "data": {
      "text/html": [
       "<div>\n",
       "<style scoped>\n",
       "    .dataframe tbody tr th:only-of-type {\n",
       "        vertical-align: middle;\n",
       "    }\n",
       "\n",
       "    .dataframe tbody tr th {\n",
       "        vertical-align: top;\n",
       "    }\n",
       "\n",
       "    .dataframe thead th {\n",
       "        text-align: right;\n",
       "    }\n",
       "</style>\n",
       "<table border=\"1\" class=\"dataframe\">\n",
       "  <thead>\n",
       "    <tr style=\"text-align: right;\">\n",
       "      <th></th>\n",
       "      <th>author</th>\n",
       "      <th>author_url</th>\n",
       "      <th>song</th>\n",
       "      <th>song_url</th>\n",
       "      <th>lyrics</th>\n",
       "    </tr>\n",
       "  </thead>\n",
       "  <tbody>\n",
       "    <tr>\n",
       "      <th>0</th>\n",
       "      <td>03 greedo</td>\n",
       "      <td>https://www.azlyrics.com/19/03greedo.html</td>\n",
       "      <td>sweet lady</td>\n",
       "      <td>https://www.azlyrics.com/lyrics/03greedo/sweet...</td>\n",
       "      <td>its only one, 03, i'm from grape street, where...</td>\n",
       "    </tr>\n",
       "    <tr>\n",
       "      <th>1</th>\n",
       "      <td>03 greedo</td>\n",
       "      <td>https://www.azlyrics.com/19/03greedo.html</td>\n",
       "      <td>mafia business</td>\n",
       "      <td>https://www.azlyrics.com/lyrics/03greedo/mafia...</td>\n",
       "      <td>you gonna make me put you in a suit and tie, s...</td>\n",
       "    </tr>\n",
       "    <tr>\n",
       "      <th>2</th>\n",
       "      <td>03 greedo</td>\n",
       "      <td>https://www.azlyrics.com/19/03greedo.html</td>\n",
       "      <td>paranoid</td>\n",
       "      <td>https://www.azlyrics.com/lyrics/03greedo/paran...</td>\n",
       "      <td>we could kill it, yeah, we could, we could, we...</td>\n",
       "    </tr>\n",
       "    <tr>\n",
       "      <th>3</th>\n",
       "      <td>03 greedo</td>\n",
       "      <td>https://www.azlyrics.com/19/03greedo.html</td>\n",
       "      <td>never bend</td>\n",
       "      <td>https://www.azlyrics.com/lyrics/03greedo/never...</td>\n",
       "      <td>yeah, you lil bitch ass niggas steady speaking...</td>\n",
       "    </tr>\n",
       "    <tr>\n",
       "      <th>4</th>\n",
       "      <td>03 greedo</td>\n",
       "      <td>https://www.azlyrics.com/19/03greedo.html</td>\n",
       "      <td>prayer for my lost</td>\n",
       "      <td>https://www.azlyrics.com/lyrics/03greedo/praye...</td>\n",
       "      <td>x loaded up bro, never see me in the church, p...</td>\n",
       "    </tr>\n",
       "  </tbody>\n",
       "</table>\n",
       "</div>"
      ],
      "text/plain": [
       "      author                                 author_url                song  \\\n",
       "0  03 greedo  https://www.azlyrics.com/19/03greedo.html          sweet lady   \n",
       "1  03 greedo  https://www.azlyrics.com/19/03greedo.html      mafia business   \n",
       "2  03 greedo  https://www.azlyrics.com/19/03greedo.html            paranoid   \n",
       "3  03 greedo  https://www.azlyrics.com/19/03greedo.html          never bend   \n",
       "4  03 greedo  https://www.azlyrics.com/19/03greedo.html  prayer for my lost   \n",
       "\n",
       "                                            song_url  \\\n",
       "0  https://www.azlyrics.com/lyrics/03greedo/sweet...   \n",
       "1  https://www.azlyrics.com/lyrics/03greedo/mafia...   \n",
       "2  https://www.azlyrics.com/lyrics/03greedo/paran...   \n",
       "3  https://www.azlyrics.com/lyrics/03greedo/never...   \n",
       "4  https://www.azlyrics.com/lyrics/03greedo/praye...   \n",
       "\n",
       "                                              lyrics  \n",
       "0  its only one, 03, i'm from grape street, where...  \n",
       "1  you gonna make me put you in a suit and tie, s...  \n",
       "2  we could kill it, yeah, we could, we could, we...  \n",
       "3  yeah, you lil bitch ass niggas steady speaking...  \n",
       "4  x loaded up bro, never see me in the church, p...  "
      ]
     },
     "execution_count": 127,
     "metadata": {},
     "output_type": "execute_result"
    }
   ],
   "source": [
    "data.head()"
   ]
  },
  {
   "cell_type": "code",
   "execution_count": 189,
   "metadata": {},
   "outputs": [],
   "source": [
    "data.to_csv('org_data.csv', index=False)"
   ]
  },
  {
   "cell_type": "markdown",
   "metadata": {},
   "source": [
    "### Get genre classification"
   ]
  },
  {
   "cell_type": "code",
   "execution_count": 1,
   "metadata": {},
   "outputs": [],
   "source": [
    "from langdetect import detect\n",
    "\n",
    "\n",
    "def get_lang(lyrics):\n",
    "    \"\"\"\n",
    "    detect the language of the song\n",
    "    \"\"\"\n",
    "    try:\n",
    "        lang = detect(lyrics[:100])\n",
    "        return lang == 'en'\n",
    "    except:\n",
    "        pass\n",
    "    \n",
    "\n",
    "def get_genre(song):\n",
    "    \"\"\"\n",
    "    get genre classification\n",
    "    return False if genre is not in the list\n",
    "    \"\"\"\n",
    "    genres = ['Pop', 'Rock', 'Rap', 'Blues', 'Country', 'Funk', 'Music']\n",
    "    \n",
    "    song = song['music_genre_list']\n",
    "    song_genres = []\n",
    "    for genre in song:\n",
    "        g = genre['music_genre']['music_genre_name']\n",
    "        if g in genres:\n",
    "            song_genres.append(g)\n",
    "    if len(song_genres) > 1 and song_genres[0] == 'Music':\n",
    "        return song_genres[1]\n",
    "    else:\n",
    "        return song_genres[0] if len(song_genres) > 0 else False\n",
    "    \n",
    "    \n",
    "def find_song(row): \n",
    "    \"\"\"\n",
    "    get genre of the song\n",
    "    \"\"\"\n",
    "    song_data = musixmatch.track_search(q_track=row['song'],\n",
    "                                        q_artist=row['author'], \n",
    "                                        page_size=1, \n",
    "                                        page=1, \n",
    "                                        s_track_rating='desc')\n",
    "    try:\n",
    "        song = song_data['message']['body']['track_list'][0]['track']['primary_genres']\n",
    "        genre = get_genre(song)\n",
    "        return genre\n",
    "    except:\n",
    "        pass"
   ]
  },
  {
   "cell_type": "code",
   "execution_count": 2,
   "metadata": {},
   "outputs": [],
   "source": [
    "new_data = []"
   ]
  },
  {
   "cell_type": "code",
   "execution_count": 196,
   "metadata": {},
   "outputs": [
    {
     "data": {
      "application/vnd.jupyter.widget-view+json": {
       "model_id": "f3bb5abab65e4c049c54f17e5e1ffa5a",
       "version_major": 2,
       "version_minor": 0
      },
      "text/plain": [
       "HBox(children=(FloatProgress(value=0.0, max=63444.0), HTML(value='')))"
      ]
     },
     "metadata": {},
     "output_type": "display_data"
    },
    {
     "ename": "KeyboardInterrupt",
     "evalue": "",
     "output_type": "error",
     "traceback": [
      "\u001b[0;31m---------------------------------------------------------------------------\u001b[0m",
      "\u001b[0;31mKeyboardInterrupt\u001b[0m                         Traceback (most recent call last)",
      "\u001b[0;32m<ipython-input-196-66d23a42e6ee>\u001b[0m in \u001b[0;36m<module>\u001b[0;34m\u001b[0m\n\u001b[1;32m      3\u001b[0m \u001b[0;32mfor\u001b[0m \u001b[0mind\u001b[0m\u001b[0;34m,\u001b[0m \u001b[0msong\u001b[0m \u001b[0;32min\u001b[0m \u001b[0mtqdm\u001b[0m\u001b[0;34m(\u001b[0m\u001b[0mdata\u001b[0m\u001b[0;34m.\u001b[0m\u001b[0mloc\u001b[0m\u001b[0;34m[\u001b[0m\u001b[0mi\u001b[0m\u001b[0;34m:\u001b[0m\u001b[0;34m]\u001b[0m\u001b[0;34m.\u001b[0m\u001b[0miterrows\u001b[0m\u001b[0;34m(\u001b[0m\u001b[0;34m)\u001b[0m\u001b[0;34m,\u001b[0m \u001b[0mtotal\u001b[0m\u001b[0;34m=\u001b[0m\u001b[0mlen\u001b[0m\u001b[0;34m(\u001b[0m\u001b[0mdata\u001b[0m\u001b[0;34m[\u001b[0m\u001b[0mi\u001b[0m\u001b[0;34m:\u001b[0m\u001b[0;34m]\u001b[0m\u001b[0;34m)\u001b[0m\u001b[0;34m)\u001b[0m\u001b[0;34m:\u001b[0m\u001b[0;34m\u001b[0m\u001b[0;34m\u001b[0m\u001b[0m\n\u001b[1;32m      4\u001b[0m     \u001b[0;32mif\u001b[0m \u001b[0msong\u001b[0m\u001b[0;34m[\u001b[0m\u001b[0;34m'author'\u001b[0m\u001b[0;34m]\u001b[0m \u001b[0;32mnot\u001b[0m \u001b[0;32min\u001b[0m \u001b[0mbanned_artists\u001b[0m \u001b[0;32mand\u001b[0m \u001b[0mget_lang\u001b[0m\u001b[0;34m(\u001b[0m\u001b[0msong\u001b[0m\u001b[0;34m[\u001b[0m\u001b[0;34m'lyrics'\u001b[0m\u001b[0;34m]\u001b[0m\u001b[0;34m[\u001b[0m\u001b[0;34m:\u001b[0m\u001b[0;36m100\u001b[0m\u001b[0;34m]\u001b[0m\u001b[0;34m)\u001b[0m\u001b[0;34m:\u001b[0m\u001b[0;34m\u001b[0m\u001b[0;34m\u001b[0m\u001b[0m\n\u001b[0;32m----> 5\u001b[0;31m         \u001b[0mgenre\u001b[0m \u001b[0;34m=\u001b[0m \u001b[0mfind_song\u001b[0m\u001b[0;34m(\u001b[0m\u001b[0msong\u001b[0m\u001b[0;34m)\u001b[0m\u001b[0;34m\u001b[0m\u001b[0;34m\u001b[0m\u001b[0m\n\u001b[0m\u001b[1;32m      6\u001b[0m         \u001b[0;32mif\u001b[0m \u001b[0mgenre\u001b[0m\u001b[0;34m:\u001b[0m\u001b[0;34m\u001b[0m\u001b[0;34m\u001b[0m\u001b[0m\n\u001b[1;32m      7\u001b[0m             \u001b[0mnew_data\u001b[0m\u001b[0;34m.\u001b[0m\u001b[0mappend\u001b[0m\u001b[0;34m(\u001b[0m\u001b[0;34m(\u001b[0m\u001b[0msong\u001b[0m\u001b[0;34m[\u001b[0m\u001b[0;34m'author'\u001b[0m\u001b[0;34m]\u001b[0m\u001b[0;34m,\u001b[0m \u001b[0msong\u001b[0m\u001b[0;34m[\u001b[0m\u001b[0;34m'song'\u001b[0m\u001b[0;34m]\u001b[0m\u001b[0;34m,\u001b[0m \u001b[0msong\u001b[0m\u001b[0;34m[\u001b[0m\u001b[0;34m'lyrics'\u001b[0m\u001b[0;34m]\u001b[0m\u001b[0;34m,\u001b[0m \u001b[0mgenre\u001b[0m\u001b[0;34m)\u001b[0m\u001b[0;34m)\u001b[0m\u001b[0;34m\u001b[0m\u001b[0;34m\u001b[0m\u001b[0m\n",
      "\u001b[0;32m<ipython-input-134-60bfee2baeea>\u001b[0m in \u001b[0;36mfind_song\u001b[0;34m(row)\u001b[0m\n\u001b[1;32m      4\u001b[0m                                         \u001b[0mpage_size\u001b[0m\u001b[0;34m=\u001b[0m\u001b[0;36m1\u001b[0m\u001b[0;34m,\u001b[0m\u001b[0;34m\u001b[0m\u001b[0;34m\u001b[0m\u001b[0m\n\u001b[1;32m      5\u001b[0m                                         \u001b[0mpage\u001b[0m\u001b[0;34m=\u001b[0m\u001b[0;36m1\u001b[0m\u001b[0;34m,\u001b[0m\u001b[0;34m\u001b[0m\u001b[0;34m\u001b[0m\u001b[0m\n\u001b[0;32m----> 6\u001b[0;31m                                         s_track_rating='desc')\n\u001b[0m\u001b[1;32m      7\u001b[0m     \u001b[0;32mtry\u001b[0m\u001b[0;34m:\u001b[0m\u001b[0;34m\u001b[0m\u001b[0;34m\u001b[0m\u001b[0m\n\u001b[1;32m      8\u001b[0m         \u001b[0msong\u001b[0m \u001b[0;34m=\u001b[0m \u001b[0msong_data\u001b[0m\u001b[0;34m[\u001b[0m\u001b[0;34m'message'\u001b[0m\u001b[0;34m]\u001b[0m\u001b[0;34m[\u001b[0m\u001b[0;34m'body'\u001b[0m\u001b[0;34m]\u001b[0m\u001b[0;34m[\u001b[0m\u001b[0;34m'track_list'\u001b[0m\u001b[0;34m]\u001b[0m\u001b[0;34m[\u001b[0m\u001b[0;36m0\u001b[0m\u001b[0;34m]\u001b[0m\u001b[0;34m[\u001b[0m\u001b[0;34m'track'\u001b[0m\u001b[0;34m]\u001b[0m\u001b[0;34m[\u001b[0m\u001b[0;34m'primary_genres'\u001b[0m\u001b[0;34m]\u001b[0m\u001b[0;34m\u001b[0m\u001b[0;34m\u001b[0m\u001b[0m\n",
      "\u001b[0;32m~/opt/anaconda3/lib/python3.7/site-packages/musixmatch/musixmatch.py\u001b[0m in \u001b[0;36mtrack_search\u001b[0;34m(self, q_track, q_artist, page_size, page, s_track_rating, _format)\u001b[0m\n\u001b[1;32m    106\u001b[0m                                                    \u001b[0m_set_page_size\u001b[0m\u001b[0;34m(\u001b[0m\u001b[0mpage_size\u001b[0m\u001b[0;34m)\u001b[0m\u001b[0;34m,\u001b[0m\u001b[0;34m\u001b[0m\u001b[0;34m\u001b[0m\u001b[0m\n\u001b[1;32m    107\u001b[0m                                                    \u001b[0mpage\u001b[0m\u001b[0;34m,\u001b[0m \u001b[0ms_track_rating\u001b[0m\u001b[0;34m,\u001b[0m\u001b[0;34m\u001b[0m\u001b[0;34m\u001b[0m\u001b[0m\n\u001b[0;32m--> 108\u001b[0;31m                                                    _format)))\n\u001b[0m\u001b[1;32m    109\u001b[0m         \u001b[0;32mreturn\u001b[0m \u001b[0mdata\u001b[0m\u001b[0;34m\u001b[0m\u001b[0;34m\u001b[0m\u001b[0m\n\u001b[1;32m    110\u001b[0m \u001b[0;34m\u001b[0m\u001b[0m\n",
      "\u001b[0;32m~/opt/anaconda3/lib/python3.7/site-packages/musixmatch/musixmatch.py\u001b[0m in \u001b[0;36m_request\u001b[0;34m(self, url)\u001b[0m\n\u001b[1;32m     24\u001b[0m \u001b[0;34m\u001b[0m\u001b[0m\n\u001b[1;32m     25\u001b[0m     \u001b[0;32mdef\u001b[0m \u001b[0m_request\u001b[0m\u001b[0;34m(\u001b[0m\u001b[0mself\u001b[0m\u001b[0;34m,\u001b[0m \u001b[0murl\u001b[0m\u001b[0;34m)\u001b[0m\u001b[0;34m:\u001b[0m\u001b[0;34m\u001b[0m\u001b[0;34m\u001b[0m\u001b[0m\n\u001b[0;32m---> 26\u001b[0;31m         \u001b[0mdata\u001b[0m \u001b[0;34m=\u001b[0m \u001b[0mrequests\u001b[0m\u001b[0;34m.\u001b[0m\u001b[0mget\u001b[0m\u001b[0;34m(\u001b[0m\u001b[0murl\u001b[0m\u001b[0;34m)\u001b[0m\u001b[0;34m.\u001b[0m\u001b[0mjson\u001b[0m\u001b[0;34m(\u001b[0m\u001b[0;34m)\u001b[0m\u001b[0;34m\u001b[0m\u001b[0;34m\u001b[0m\u001b[0m\n\u001b[0m\u001b[1;32m     27\u001b[0m         \u001b[0;32mreturn\u001b[0m \u001b[0mdata\u001b[0m\u001b[0;34m\u001b[0m\u001b[0;34m\u001b[0m\u001b[0m\n\u001b[1;32m     28\u001b[0m \u001b[0;34m\u001b[0m\u001b[0m\n",
      "\u001b[0;32m~/opt/anaconda3/lib/python3.7/site-packages/requests/api.py\u001b[0m in \u001b[0;36mget\u001b[0;34m(url, params, **kwargs)\u001b[0m\n\u001b[1;32m     73\u001b[0m \u001b[0;34m\u001b[0m\u001b[0m\n\u001b[1;32m     74\u001b[0m     \u001b[0mkwargs\u001b[0m\u001b[0;34m.\u001b[0m\u001b[0msetdefault\u001b[0m\u001b[0;34m(\u001b[0m\u001b[0;34m'allow_redirects'\u001b[0m\u001b[0;34m,\u001b[0m \u001b[0;32mTrue\u001b[0m\u001b[0;34m)\u001b[0m\u001b[0;34m\u001b[0m\u001b[0;34m\u001b[0m\u001b[0m\n\u001b[0;32m---> 75\u001b[0;31m     \u001b[0;32mreturn\u001b[0m \u001b[0mrequest\u001b[0m\u001b[0;34m(\u001b[0m\u001b[0;34m'get'\u001b[0m\u001b[0;34m,\u001b[0m \u001b[0murl\u001b[0m\u001b[0;34m,\u001b[0m \u001b[0mparams\u001b[0m\u001b[0;34m=\u001b[0m\u001b[0mparams\u001b[0m\u001b[0;34m,\u001b[0m \u001b[0;34m**\u001b[0m\u001b[0mkwargs\u001b[0m\u001b[0;34m)\u001b[0m\u001b[0;34m\u001b[0m\u001b[0;34m\u001b[0m\u001b[0m\n\u001b[0m\u001b[1;32m     76\u001b[0m \u001b[0;34m\u001b[0m\u001b[0m\n\u001b[1;32m     77\u001b[0m \u001b[0;34m\u001b[0m\u001b[0m\n",
      "\u001b[0;32m~/opt/anaconda3/lib/python3.7/site-packages/requests/api.py\u001b[0m in \u001b[0;36mrequest\u001b[0;34m(method, url, **kwargs)\u001b[0m\n\u001b[1;32m     58\u001b[0m     \u001b[0;31m# cases, and look like a memory leak in others.\u001b[0m\u001b[0;34m\u001b[0m\u001b[0;34m\u001b[0m\u001b[0;34m\u001b[0m\u001b[0m\n\u001b[1;32m     59\u001b[0m     \u001b[0;32mwith\u001b[0m \u001b[0msessions\u001b[0m\u001b[0;34m.\u001b[0m\u001b[0mSession\u001b[0m\u001b[0;34m(\u001b[0m\u001b[0;34m)\u001b[0m \u001b[0;32mas\u001b[0m \u001b[0msession\u001b[0m\u001b[0;34m:\u001b[0m\u001b[0;34m\u001b[0m\u001b[0;34m\u001b[0m\u001b[0m\n\u001b[0;32m---> 60\u001b[0;31m         \u001b[0;32mreturn\u001b[0m \u001b[0msession\u001b[0m\u001b[0;34m.\u001b[0m\u001b[0mrequest\u001b[0m\u001b[0;34m(\u001b[0m\u001b[0mmethod\u001b[0m\u001b[0;34m=\u001b[0m\u001b[0mmethod\u001b[0m\u001b[0;34m,\u001b[0m \u001b[0murl\u001b[0m\u001b[0;34m=\u001b[0m\u001b[0murl\u001b[0m\u001b[0;34m,\u001b[0m \u001b[0;34m**\u001b[0m\u001b[0mkwargs\u001b[0m\u001b[0;34m)\u001b[0m\u001b[0;34m\u001b[0m\u001b[0;34m\u001b[0m\u001b[0m\n\u001b[0m\u001b[1;32m     61\u001b[0m \u001b[0;34m\u001b[0m\u001b[0m\n\u001b[1;32m     62\u001b[0m \u001b[0;34m\u001b[0m\u001b[0m\n",
      "\u001b[0;32m~/opt/anaconda3/lib/python3.7/site-packages/requests/sessions.py\u001b[0m in \u001b[0;36mrequest\u001b[0;34m(self, method, url, params, data, headers, cookies, files, auth, timeout, allow_redirects, proxies, hooks, stream, verify, cert, json)\u001b[0m\n\u001b[1;32m    531\u001b[0m         }\n\u001b[1;32m    532\u001b[0m         \u001b[0msend_kwargs\u001b[0m\u001b[0;34m.\u001b[0m\u001b[0mupdate\u001b[0m\u001b[0;34m(\u001b[0m\u001b[0msettings\u001b[0m\u001b[0;34m)\u001b[0m\u001b[0;34m\u001b[0m\u001b[0;34m\u001b[0m\u001b[0m\n\u001b[0;32m--> 533\u001b[0;31m         \u001b[0mresp\u001b[0m \u001b[0;34m=\u001b[0m \u001b[0mself\u001b[0m\u001b[0;34m.\u001b[0m\u001b[0msend\u001b[0m\u001b[0;34m(\u001b[0m\u001b[0mprep\u001b[0m\u001b[0;34m,\u001b[0m \u001b[0;34m**\u001b[0m\u001b[0msend_kwargs\u001b[0m\u001b[0;34m)\u001b[0m\u001b[0;34m\u001b[0m\u001b[0;34m\u001b[0m\u001b[0m\n\u001b[0m\u001b[1;32m    534\u001b[0m \u001b[0;34m\u001b[0m\u001b[0m\n\u001b[1;32m    535\u001b[0m         \u001b[0;32mreturn\u001b[0m \u001b[0mresp\u001b[0m\u001b[0;34m\u001b[0m\u001b[0;34m\u001b[0m\u001b[0m\n",
      "\u001b[0;32m~/opt/anaconda3/lib/python3.7/site-packages/requests/sessions.py\u001b[0m in \u001b[0;36msend\u001b[0;34m(self, request, **kwargs)\u001b[0m\n\u001b[1;32m    644\u001b[0m \u001b[0;34m\u001b[0m\u001b[0m\n\u001b[1;32m    645\u001b[0m         \u001b[0;31m# Send the request\u001b[0m\u001b[0;34m\u001b[0m\u001b[0;34m\u001b[0m\u001b[0;34m\u001b[0m\u001b[0m\n\u001b[0;32m--> 646\u001b[0;31m         \u001b[0mr\u001b[0m \u001b[0;34m=\u001b[0m \u001b[0madapter\u001b[0m\u001b[0;34m.\u001b[0m\u001b[0msend\u001b[0m\u001b[0;34m(\u001b[0m\u001b[0mrequest\u001b[0m\u001b[0;34m,\u001b[0m \u001b[0;34m**\u001b[0m\u001b[0mkwargs\u001b[0m\u001b[0;34m)\u001b[0m\u001b[0;34m\u001b[0m\u001b[0;34m\u001b[0m\u001b[0m\n\u001b[0m\u001b[1;32m    647\u001b[0m \u001b[0;34m\u001b[0m\u001b[0m\n\u001b[1;32m    648\u001b[0m         \u001b[0;31m# Total elapsed time of the request (approximately)\u001b[0m\u001b[0;34m\u001b[0m\u001b[0;34m\u001b[0m\u001b[0;34m\u001b[0m\u001b[0m\n",
      "\u001b[0;32m~/opt/anaconda3/lib/python3.7/site-packages/requests/adapters.py\u001b[0m in \u001b[0;36msend\u001b[0;34m(self, request, stream, timeout, verify, cert, proxies)\u001b[0m\n\u001b[1;32m    447\u001b[0m                     \u001b[0mdecode_content\u001b[0m\u001b[0;34m=\u001b[0m\u001b[0;32mFalse\u001b[0m\u001b[0;34m,\u001b[0m\u001b[0;34m\u001b[0m\u001b[0;34m\u001b[0m\u001b[0m\n\u001b[1;32m    448\u001b[0m                     \u001b[0mretries\u001b[0m\u001b[0;34m=\u001b[0m\u001b[0mself\u001b[0m\u001b[0;34m.\u001b[0m\u001b[0mmax_retries\u001b[0m\u001b[0;34m,\u001b[0m\u001b[0;34m\u001b[0m\u001b[0;34m\u001b[0m\u001b[0m\n\u001b[0;32m--> 449\u001b[0;31m                     \u001b[0mtimeout\u001b[0m\u001b[0;34m=\u001b[0m\u001b[0mtimeout\u001b[0m\u001b[0;34m\u001b[0m\u001b[0;34m\u001b[0m\u001b[0m\n\u001b[0m\u001b[1;32m    450\u001b[0m                 )\n\u001b[1;32m    451\u001b[0m \u001b[0;34m\u001b[0m\u001b[0m\n",
      "\u001b[0;32m~/opt/anaconda3/lib/python3.7/site-packages/urllib3/connectionpool.py\u001b[0m in \u001b[0;36murlopen\u001b[0;34m(self, method, url, body, headers, retries, redirect, assert_same_host, timeout, pool_timeout, release_conn, chunked, body_pos, **response_kw)\u001b[0m\n\u001b[1;32m    670\u001b[0m                 \u001b[0mbody\u001b[0m\u001b[0;34m=\u001b[0m\u001b[0mbody\u001b[0m\u001b[0;34m,\u001b[0m\u001b[0;34m\u001b[0m\u001b[0;34m\u001b[0m\u001b[0m\n\u001b[1;32m    671\u001b[0m                 \u001b[0mheaders\u001b[0m\u001b[0;34m=\u001b[0m\u001b[0mheaders\u001b[0m\u001b[0;34m,\u001b[0m\u001b[0;34m\u001b[0m\u001b[0;34m\u001b[0m\u001b[0m\n\u001b[0;32m--> 672\u001b[0;31m                 \u001b[0mchunked\u001b[0m\u001b[0;34m=\u001b[0m\u001b[0mchunked\u001b[0m\u001b[0;34m,\u001b[0m\u001b[0;34m\u001b[0m\u001b[0;34m\u001b[0m\u001b[0m\n\u001b[0m\u001b[1;32m    673\u001b[0m             )\n\u001b[1;32m    674\u001b[0m \u001b[0;34m\u001b[0m\u001b[0m\n",
      "\u001b[0;32m~/opt/anaconda3/lib/python3.7/site-packages/urllib3/connectionpool.py\u001b[0m in \u001b[0;36m_make_request\u001b[0;34m(self, conn, method, url, timeout, chunked, **httplib_request_kw)\u001b[0m\n\u001b[1;32m    419\u001b[0m                     \u001b[0;31m# Python 3 (including for exceptions like SystemExit).\u001b[0m\u001b[0;34m\u001b[0m\u001b[0;34m\u001b[0m\u001b[0;34m\u001b[0m\u001b[0m\n\u001b[1;32m    420\u001b[0m                     \u001b[0;31m# Otherwise it looks like a bug in the code.\u001b[0m\u001b[0;34m\u001b[0m\u001b[0;34m\u001b[0m\u001b[0;34m\u001b[0m\u001b[0m\n\u001b[0;32m--> 421\u001b[0;31m                     \u001b[0msix\u001b[0m\u001b[0;34m.\u001b[0m\u001b[0mraise_from\u001b[0m\u001b[0;34m(\u001b[0m\u001b[0me\u001b[0m\u001b[0;34m,\u001b[0m \u001b[0;32mNone\u001b[0m\u001b[0;34m)\u001b[0m\u001b[0;34m\u001b[0m\u001b[0;34m\u001b[0m\u001b[0m\n\u001b[0m\u001b[1;32m    422\u001b[0m         \u001b[0;32mexcept\u001b[0m \u001b[0;34m(\u001b[0m\u001b[0mSocketTimeout\u001b[0m\u001b[0;34m,\u001b[0m \u001b[0mBaseSSLError\u001b[0m\u001b[0;34m,\u001b[0m \u001b[0mSocketError\u001b[0m\u001b[0;34m)\u001b[0m \u001b[0;32mas\u001b[0m \u001b[0me\u001b[0m\u001b[0;34m:\u001b[0m\u001b[0;34m\u001b[0m\u001b[0;34m\u001b[0m\u001b[0m\n\u001b[1;32m    423\u001b[0m             \u001b[0mself\u001b[0m\u001b[0;34m.\u001b[0m\u001b[0m_raise_timeout\u001b[0m\u001b[0;34m(\u001b[0m\u001b[0merr\u001b[0m\u001b[0;34m=\u001b[0m\u001b[0me\u001b[0m\u001b[0;34m,\u001b[0m \u001b[0murl\u001b[0m\u001b[0;34m=\u001b[0m\u001b[0murl\u001b[0m\u001b[0;34m,\u001b[0m \u001b[0mtimeout_value\u001b[0m\u001b[0;34m=\u001b[0m\u001b[0mread_timeout\u001b[0m\u001b[0;34m)\u001b[0m\u001b[0;34m\u001b[0m\u001b[0;34m\u001b[0m\u001b[0m\n",
      "\u001b[0;32m~/opt/anaconda3/lib/python3.7/site-packages/urllib3/packages/six.py\u001b[0m in \u001b[0;36mraise_from\u001b[0;34m(value, from_value)\u001b[0m\n",
      "\u001b[0;32m~/opt/anaconda3/lib/python3.7/site-packages/urllib3/connectionpool.py\u001b[0m in \u001b[0;36m_make_request\u001b[0;34m(self, conn, method, url, timeout, chunked, **httplib_request_kw)\u001b[0m\n\u001b[1;32m    414\u001b[0m                 \u001b[0;31m# Python 3\u001b[0m\u001b[0;34m\u001b[0m\u001b[0;34m\u001b[0m\u001b[0;34m\u001b[0m\u001b[0m\n\u001b[1;32m    415\u001b[0m                 \u001b[0;32mtry\u001b[0m\u001b[0;34m:\u001b[0m\u001b[0;34m\u001b[0m\u001b[0;34m\u001b[0m\u001b[0m\n\u001b[0;32m--> 416\u001b[0;31m                     \u001b[0mhttplib_response\u001b[0m \u001b[0;34m=\u001b[0m \u001b[0mconn\u001b[0m\u001b[0;34m.\u001b[0m\u001b[0mgetresponse\u001b[0m\u001b[0;34m(\u001b[0m\u001b[0;34m)\u001b[0m\u001b[0;34m\u001b[0m\u001b[0;34m\u001b[0m\u001b[0m\n\u001b[0m\u001b[1;32m    417\u001b[0m                 \u001b[0;32mexcept\u001b[0m \u001b[0mBaseException\u001b[0m \u001b[0;32mas\u001b[0m \u001b[0me\u001b[0m\u001b[0;34m:\u001b[0m\u001b[0;34m\u001b[0m\u001b[0;34m\u001b[0m\u001b[0m\n\u001b[1;32m    418\u001b[0m                     \u001b[0;31m# Remove the TypeError from the exception chain in\u001b[0m\u001b[0;34m\u001b[0m\u001b[0;34m\u001b[0m\u001b[0;34m\u001b[0m\u001b[0m\n",
      "\u001b[0;32m~/opt/anaconda3/lib/python3.7/http/client.py\u001b[0m in \u001b[0;36mgetresponse\u001b[0;34m(self)\u001b[0m\n\u001b[1;32m   1342\u001b[0m         \u001b[0;32mtry\u001b[0m\u001b[0;34m:\u001b[0m\u001b[0;34m\u001b[0m\u001b[0;34m\u001b[0m\u001b[0m\n\u001b[1;32m   1343\u001b[0m             \u001b[0;32mtry\u001b[0m\u001b[0;34m:\u001b[0m\u001b[0;34m\u001b[0m\u001b[0;34m\u001b[0m\u001b[0m\n\u001b[0;32m-> 1344\u001b[0;31m                 \u001b[0mresponse\u001b[0m\u001b[0;34m.\u001b[0m\u001b[0mbegin\u001b[0m\u001b[0;34m(\u001b[0m\u001b[0;34m)\u001b[0m\u001b[0;34m\u001b[0m\u001b[0;34m\u001b[0m\u001b[0m\n\u001b[0m\u001b[1;32m   1345\u001b[0m             \u001b[0;32mexcept\u001b[0m \u001b[0mConnectionError\u001b[0m\u001b[0;34m:\u001b[0m\u001b[0;34m\u001b[0m\u001b[0;34m\u001b[0m\u001b[0m\n\u001b[1;32m   1346\u001b[0m                 \u001b[0mself\u001b[0m\u001b[0;34m.\u001b[0m\u001b[0mclose\u001b[0m\u001b[0;34m(\u001b[0m\u001b[0;34m)\u001b[0m\u001b[0;34m\u001b[0m\u001b[0;34m\u001b[0m\u001b[0m\n",
      "\u001b[0;32m~/opt/anaconda3/lib/python3.7/http/client.py\u001b[0m in \u001b[0;36mbegin\u001b[0;34m(self)\u001b[0m\n\u001b[1;32m    304\u001b[0m         \u001b[0;31m# read until we get a non-100 response\u001b[0m\u001b[0;34m\u001b[0m\u001b[0;34m\u001b[0m\u001b[0;34m\u001b[0m\u001b[0m\n\u001b[1;32m    305\u001b[0m         \u001b[0;32mwhile\u001b[0m \u001b[0;32mTrue\u001b[0m\u001b[0;34m:\u001b[0m\u001b[0;34m\u001b[0m\u001b[0;34m\u001b[0m\u001b[0m\n\u001b[0;32m--> 306\u001b[0;31m             \u001b[0mversion\u001b[0m\u001b[0;34m,\u001b[0m \u001b[0mstatus\u001b[0m\u001b[0;34m,\u001b[0m \u001b[0mreason\u001b[0m \u001b[0;34m=\u001b[0m \u001b[0mself\u001b[0m\u001b[0;34m.\u001b[0m\u001b[0m_read_status\u001b[0m\u001b[0;34m(\u001b[0m\u001b[0;34m)\u001b[0m\u001b[0;34m\u001b[0m\u001b[0;34m\u001b[0m\u001b[0m\n\u001b[0m\u001b[1;32m    307\u001b[0m             \u001b[0;32mif\u001b[0m \u001b[0mstatus\u001b[0m \u001b[0;34m!=\u001b[0m \u001b[0mCONTINUE\u001b[0m\u001b[0;34m:\u001b[0m\u001b[0;34m\u001b[0m\u001b[0;34m\u001b[0m\u001b[0m\n\u001b[1;32m    308\u001b[0m                 \u001b[0;32mbreak\u001b[0m\u001b[0;34m\u001b[0m\u001b[0;34m\u001b[0m\u001b[0m\n",
      "\u001b[0;32m~/opt/anaconda3/lib/python3.7/http/client.py\u001b[0m in \u001b[0;36m_read_status\u001b[0;34m(self)\u001b[0m\n\u001b[1;32m    265\u001b[0m \u001b[0;34m\u001b[0m\u001b[0m\n\u001b[1;32m    266\u001b[0m     \u001b[0;32mdef\u001b[0m \u001b[0m_read_status\u001b[0m\u001b[0;34m(\u001b[0m\u001b[0mself\u001b[0m\u001b[0;34m)\u001b[0m\u001b[0;34m:\u001b[0m\u001b[0;34m\u001b[0m\u001b[0;34m\u001b[0m\u001b[0m\n\u001b[0;32m--> 267\u001b[0;31m         \u001b[0mline\u001b[0m \u001b[0;34m=\u001b[0m \u001b[0mstr\u001b[0m\u001b[0;34m(\u001b[0m\u001b[0mself\u001b[0m\u001b[0;34m.\u001b[0m\u001b[0mfp\u001b[0m\u001b[0;34m.\u001b[0m\u001b[0mreadline\u001b[0m\u001b[0;34m(\u001b[0m\u001b[0m_MAXLINE\u001b[0m \u001b[0;34m+\u001b[0m \u001b[0;36m1\u001b[0m\u001b[0;34m)\u001b[0m\u001b[0;34m,\u001b[0m \u001b[0;34m\"iso-8859-1\"\u001b[0m\u001b[0;34m)\u001b[0m\u001b[0;34m\u001b[0m\u001b[0;34m\u001b[0m\u001b[0m\n\u001b[0m\u001b[1;32m    268\u001b[0m         \u001b[0;32mif\u001b[0m \u001b[0mlen\u001b[0m\u001b[0;34m(\u001b[0m\u001b[0mline\u001b[0m\u001b[0;34m)\u001b[0m \u001b[0;34m>\u001b[0m \u001b[0m_MAXLINE\u001b[0m\u001b[0;34m:\u001b[0m\u001b[0;34m\u001b[0m\u001b[0;34m\u001b[0m\u001b[0m\n\u001b[1;32m    269\u001b[0m             \u001b[0;32mraise\u001b[0m \u001b[0mLineTooLong\u001b[0m\u001b[0;34m(\u001b[0m\u001b[0;34m\"status line\"\u001b[0m\u001b[0;34m)\u001b[0m\u001b[0;34m\u001b[0m\u001b[0;34m\u001b[0m\u001b[0m\n",
      "\u001b[0;32m~/opt/anaconda3/lib/python3.7/socket.py\u001b[0m in \u001b[0;36mreadinto\u001b[0;34m(self, b)\u001b[0m\n\u001b[1;32m    587\u001b[0m         \u001b[0;32mwhile\u001b[0m \u001b[0;32mTrue\u001b[0m\u001b[0;34m:\u001b[0m\u001b[0;34m\u001b[0m\u001b[0;34m\u001b[0m\u001b[0m\n\u001b[1;32m    588\u001b[0m             \u001b[0;32mtry\u001b[0m\u001b[0;34m:\u001b[0m\u001b[0;34m\u001b[0m\u001b[0;34m\u001b[0m\u001b[0m\n\u001b[0;32m--> 589\u001b[0;31m                 \u001b[0;32mreturn\u001b[0m \u001b[0mself\u001b[0m\u001b[0;34m.\u001b[0m\u001b[0m_sock\u001b[0m\u001b[0;34m.\u001b[0m\u001b[0mrecv_into\u001b[0m\u001b[0;34m(\u001b[0m\u001b[0mb\u001b[0m\u001b[0;34m)\u001b[0m\u001b[0;34m\u001b[0m\u001b[0;34m\u001b[0m\u001b[0m\n\u001b[0m\u001b[1;32m    590\u001b[0m             \u001b[0;32mexcept\u001b[0m \u001b[0mtimeout\u001b[0m\u001b[0;34m:\u001b[0m\u001b[0;34m\u001b[0m\u001b[0;34m\u001b[0m\u001b[0m\n\u001b[1;32m    591\u001b[0m                 \u001b[0mself\u001b[0m\u001b[0;34m.\u001b[0m\u001b[0m_timeout_occurred\u001b[0m \u001b[0;34m=\u001b[0m \u001b[0;32mTrue\u001b[0m\u001b[0;34m\u001b[0m\u001b[0;34m\u001b[0m\u001b[0m\n",
      "\u001b[0;31mKeyboardInterrupt\u001b[0m: "
     ]
    }
   ],
   "source": [
    "banned_artists = ['2ne1']  # weird lyrics< we want to avoid them\n",
    "i = 84428  # index of the last song collected: as the token allows only for 2000 queries a day\n",
    "for ind, song in tqdm(data.loc[i:].iterrows(), total=len(data[i:])):\n",
    "    if song['author'] not in banned_artists and get_lang(song['lyrics'][:100]):\n",
    "        genre = find_song(song)\n",
    "        if genre:\n",
    "            new_data.append((song['author'], song['song'], song['lyrics'], genre))"
   ]
  },
  {
   "cell_type": "code",
   "execution_count": 197,
   "metadata": {},
   "outputs": [
    {
     "data": {
      "text/plain": [
       "8993"
      ]
     },
     "execution_count": 197,
     "metadata": {},
     "output_type": "execute_result"
    }
   ],
   "source": [
    "len(new_data)"
   ]
  },
  {
   "cell_type": "code",
   "execution_count": 198,
   "metadata": {},
   "outputs": [],
   "source": [
    "COLUMNS = ['author', 'song', 'lyrics', 'genre']\n",
    "clean_data = pd.DataFrame(new_data, columns=COLUMNS)"
   ]
  },
  {
   "cell_type": "code",
   "execution_count": 199,
   "metadata": {},
   "outputs": [
    {
     "data": {
      "text/html": [
       "<div>\n",
       "<style scoped>\n",
       "    .dataframe tbody tr th:only-of-type {\n",
       "        vertical-align: middle;\n",
       "    }\n",
       "\n",
       "    .dataframe tbody tr th {\n",
       "        vertical-align: top;\n",
       "    }\n",
       "\n",
       "    .dataframe thead th {\n",
       "        text-align: right;\n",
       "    }\n",
       "</style>\n",
       "<table border=\"1\" class=\"dataframe\">\n",
       "  <thead>\n",
       "    <tr style=\"text-align: right;\">\n",
       "      <th></th>\n",
       "      <th>author</th>\n",
       "      <th>song</th>\n",
       "      <th>lyrics</th>\n",
       "      <th>genre</th>\n",
       "    </tr>\n",
       "  </thead>\n",
       "  <tbody>\n",
       "    <tr>\n",
       "      <th>0</th>\n",
       "      <td>911</td>\n",
       "      <td>wonderland</td>\n",
       "      <td>wey-oh, wey-oh, we'll be as one in wonder, won...</td>\n",
       "      <td>Rock</td>\n",
       "    </tr>\n",
       "    <tr>\n",
       "      <th>1</th>\n",
       "      <td>2 chainz</td>\n",
       "      <td>intro</td>\n",
       "      <td>dj technik mixtape mastermind, trap check. tra...</td>\n",
       "      <td>Music</td>\n",
       "    </tr>\n",
       "    <tr>\n",
       "      <th>2</th>\n",
       "      <td>2 chainz</td>\n",
       "      <td>cowboy</td>\n",
       "      <td>it's all the same, only the names will change,...</td>\n",
       "      <td>Music</td>\n",
       "    </tr>\n",
       "    <tr>\n",
       "      <th>3</th>\n",
       "      <td>2 chainz</td>\n",
       "      <td>too easy</td>\n",
       "      <td>, the shit to easy bro, its too fucking easy, ...</td>\n",
       "      <td>Music</td>\n",
       "    </tr>\n",
       "    <tr>\n",
       "      <th>4</th>\n",
       "      <td>2 chainz</td>\n",
       "      <td>gasolean</td>\n",
       "      <td>see i be rocking truey and my belt by louie, i...</td>\n",
       "      <td>Music</td>\n",
       "    </tr>\n",
       "    <tr>\n",
       "      <th>...</th>\n",
       "      <td>...</td>\n",
       "      <td>...</td>\n",
       "      <td>...</td>\n",
       "      <td>...</td>\n",
       "    </tr>\n",
       "    <tr>\n",
       "      <th>8988</th>\n",
       "      <td>richards, keith</td>\n",
       "      <td>big enough</td>\n",
       "      <td>no time for weepin' baby, no tears need flow, ...</td>\n",
       "      <td>Rock</td>\n",
       "    </tr>\n",
       "    <tr>\n",
       "      <th>8989</th>\n",
       "      <td>richards, keith</td>\n",
       "      <td>make no mistake</td>\n",
       "      <td>make no mistake about it mm, but things ain't ...</td>\n",
       "      <td>Rock</td>\n",
       "    </tr>\n",
       "    <tr>\n",
       "      <th>8990</th>\n",
       "      <td>robin thicke</td>\n",
       "      <td>top of the world</td>\n",
       "      <td>come on come on, now you feeling like a pimp, ...</td>\n",
       "      <td>Pop</td>\n",
       "    </tr>\n",
       "    <tr>\n",
       "      <th>8991</th>\n",
       "      <td>robin thicke</td>\n",
       "      <td>pressure</td>\n",
       "      <td>, say, the pressure's plain to see yea, writte...</td>\n",
       "      <td>Pop</td>\n",
       "    </tr>\n",
       "    <tr>\n",
       "      <th>8992</th>\n",
       "      <td>robin thicke</td>\n",
       "      <td>give it 2 u (remix)</td>\n",
       "      <td>], okay baby, all i gotta say baby, that's rob...</td>\n",
       "      <td>Pop</td>\n",
       "    </tr>\n",
       "  </tbody>\n",
       "</table>\n",
       "<p>8993 rows × 4 columns</p>\n",
       "</div>"
      ],
      "text/plain": [
       "               author                 song  \\\n",
       "0                 911           wonderland   \n",
       "1            2 chainz                intro   \n",
       "2            2 chainz               cowboy   \n",
       "3            2 chainz             too easy   \n",
       "4            2 chainz             gasolean   \n",
       "...               ...                  ...   \n",
       "8988  richards, keith           big enough   \n",
       "8989  richards, keith      make no mistake   \n",
       "8990     robin thicke     top of the world   \n",
       "8991     robin thicke             pressure   \n",
       "8992     robin thicke  give it 2 u (remix)   \n",
       "\n",
       "                                                 lyrics  genre  \n",
       "0     wey-oh, wey-oh, we'll be as one in wonder, won...   Rock  \n",
       "1     dj technik mixtape mastermind, trap check. tra...  Music  \n",
       "2     it's all the same, only the names will change,...  Music  \n",
       "3     , the shit to easy bro, its too fucking easy, ...  Music  \n",
       "4     see i be rocking truey and my belt by louie, i...  Music  \n",
       "...                                                 ...    ...  \n",
       "8988  no time for weepin' baby, no tears need flow, ...   Rock  \n",
       "8989  make no mistake about it mm, but things ain't ...   Rock  \n",
       "8990  come on come on, now you feeling like a pimp, ...    Pop  \n",
       "8991  , say, the pressure's plain to see yea, writte...    Pop  \n",
       "8992  ], okay baby, all i gotta say baby, that's rob...    Pop  \n",
       "\n",
       "[8993 rows x 4 columns]"
      ]
     },
     "execution_count": 199,
     "metadata": {},
     "output_type": "execute_result"
    }
   ],
   "source": [
    "clean_data"
   ]
  },
  {
   "cell_type": "code",
   "execution_count": 200,
   "metadata": {},
   "outputs": [],
   "source": [
    "clean_data.to_csv('./data/data_1.csv', index=False)"
   ]
  },
  {
   "cell_type": "markdown",
   "metadata": {},
   "source": [
    "### Combine data"
   ]
  },
  {
   "cell_type": "code",
   "execution_count": 262,
   "metadata": {},
   "outputs": [],
   "source": [
    "data = pd.read_csv('./data/data_1.csv')\n",
    "extra_data = pd.read_csv('./data/data_2.csv')  # more loaded data"
   ]
  },
  {
   "cell_type": "code",
   "execution_count": 263,
   "metadata": {},
   "outputs": [],
   "source": [
    "data = pd.concat([data, extra_data])"
   ]
  },
  {
   "cell_type": "code",
   "execution_count": 264,
   "metadata": {},
   "outputs": [
    {
     "data": {
      "text/html": [
       "<div>\n",
       "<style scoped>\n",
       "    .dataframe tbody tr th:only-of-type {\n",
       "        vertical-align: middle;\n",
       "    }\n",
       "\n",
       "    .dataframe tbody tr th {\n",
       "        vertical-align: top;\n",
       "    }\n",
       "\n",
       "    .dataframe thead th {\n",
       "        text-align: right;\n",
       "    }\n",
       "</style>\n",
       "<table border=\"1\" class=\"dataframe\">\n",
       "  <thead>\n",
       "    <tr style=\"text-align: right;\">\n",
       "      <th></th>\n",
       "      <th>author</th>\n",
       "      <th>song</th>\n",
       "      <th>lyrics</th>\n",
       "      <th>genre</th>\n",
       "    </tr>\n",
       "  </thead>\n",
       "  <tbody>\n",
       "    <tr>\n",
       "      <th>0</th>\n",
       "      <td>911</td>\n",
       "      <td>wonderland</td>\n",
       "      <td>wey-oh, wey-oh, we'll be as one in wonder, won...</td>\n",
       "      <td>Rock</td>\n",
       "    </tr>\n",
       "    <tr>\n",
       "      <th>1</th>\n",
       "      <td>2 chainz</td>\n",
       "      <td>intro</td>\n",
       "      <td>dj technik mixtape mastermind, trap check. tra...</td>\n",
       "      <td>Music</td>\n",
       "    </tr>\n",
       "    <tr>\n",
       "      <th>2</th>\n",
       "      <td>2 chainz</td>\n",
       "      <td>cowboy</td>\n",
       "      <td>it's all the same, only the names will change,...</td>\n",
       "      <td>Music</td>\n",
       "    </tr>\n",
       "    <tr>\n",
       "      <th>3</th>\n",
       "      <td>2 chainz</td>\n",
       "      <td>too easy</td>\n",
       "      <td>, the shit to easy bro, its too fucking easy, ...</td>\n",
       "      <td>Music</td>\n",
       "    </tr>\n",
       "    <tr>\n",
       "      <th>4</th>\n",
       "      <td>2 chainz</td>\n",
       "      <td>gasolean</td>\n",
       "      <td>see i be rocking truey and my belt by louie, i...</td>\n",
       "      <td>Music</td>\n",
       "    </tr>\n",
       "    <tr>\n",
       "      <th>...</th>\n",
       "      <td>...</td>\n",
       "      <td>...</td>\n",
       "      <td>...</td>\n",
       "      <td>...</td>\n",
       "    </tr>\n",
       "    <tr>\n",
       "      <th>25647</th>\n",
       "      <td>lynn anderson</td>\n",
       "      <td>cry</td>\n",
       "      <td>if your sweetheart sends a letter of goodbye, ...</td>\n",
       "      <td>Country</td>\n",
       "    </tr>\n",
       "    <tr>\n",
       "      <th>25648</th>\n",
       "      <td>lynn anderson</td>\n",
       "      <td>never ending song of love</td>\n",
       "      <td>i've got a never ending love for you, from now...</td>\n",
       "      <td>Country</td>\n",
       "    </tr>\n",
       "    <tr>\n",
       "      <th>25649</th>\n",
       "      <td>lynn anderson</td>\n",
       "      <td>bedtime story</td>\n",
       "      <td>i've told you almost every bedtime story, and ...</td>\n",
       "      <td>Country</td>\n",
       "    </tr>\n",
       "    <tr>\n",
       "      <th>25650</th>\n",
       "      <td>lynn anderson</td>\n",
       "      <td>reason to believe</td>\n",
       "      <td>if i listened long enough to you, i'd find the...</td>\n",
       "      <td>Music</td>\n",
       "    </tr>\n",
       "    <tr>\n",
       "      <th>25651</th>\n",
       "      <td>lynn anderson</td>\n",
       "      <td>if i can't be your woman</td>\n",
       "      <td>young girls think love can be found any night,...</td>\n",
       "      <td>Music</td>\n",
       "    </tr>\n",
       "  </tbody>\n",
       "</table>\n",
       "<p>34645 rows × 4 columns</p>\n",
       "</div>"
      ],
      "text/plain": [
       "              author                       song  \\\n",
       "0                911                 wonderland   \n",
       "1           2 chainz                      intro   \n",
       "2           2 chainz                     cowboy   \n",
       "3           2 chainz                   too easy   \n",
       "4           2 chainz                   gasolean   \n",
       "...              ...                        ...   \n",
       "25647  lynn anderson                        cry   \n",
       "25648  lynn anderson  never ending song of love   \n",
       "25649  lynn anderson              bedtime story   \n",
       "25650  lynn anderson          reason to believe   \n",
       "25651  lynn anderson   if i can't be your woman   \n",
       "\n",
       "                                                  lyrics    genre  \n",
       "0      wey-oh, wey-oh, we'll be as one in wonder, won...     Rock  \n",
       "1      dj technik mixtape mastermind, trap check. tra...    Music  \n",
       "2      it's all the same, only the names will change,...    Music  \n",
       "3      , the shit to easy bro, its too fucking easy, ...    Music  \n",
       "4      see i be rocking truey and my belt by louie, i...    Music  \n",
       "...                                                  ...      ...  \n",
       "25647  if your sweetheart sends a letter of goodbye, ...  Country  \n",
       "25648  i've got a never ending love for you, from now...  Country  \n",
       "25649  i've told you almost every bedtime story, and ...  Country  \n",
       "25650  if i listened long enough to you, i'd find the...    Music  \n",
       "25651  young girls think love can be found any night,...    Music  \n",
       "\n",
       "[34645 rows x 4 columns]"
      ]
     },
     "execution_count": 264,
     "metadata": {},
     "output_type": "execute_result"
    }
   ],
   "source": [
    "data"
   ]
  },
  {
   "cell_type": "markdown",
   "metadata": {},
   "source": [
    "### Add more Rap, Folk and Blues song lyrics"
   ]
  },
  {
   "cell_type": "code",
   "execution_count": 427,
   "metadata": {},
   "outputs": [],
   "source": [
    "def find_songs(artist='', page_num=1, primary_genre=''):\n",
    "    \"\"\"\n",
    "    find songs by genre/artist\n",
    "    \"\"\"\n",
    "    song_data = musixmatch.track_search(q_track='',\n",
    "                                        q_artist=artist, \n",
    "                                        page_size=100, \n",
    "                                        page=page_num, \n",
    "                                        s_track_rating='desc')\n",
    "    \n",
    "    songs = song_data['message']\n",
    "    songs = songs['body']\n",
    "    data = []\n",
    "    if len(songs) != 0:\n",
    "        songs=songs['track_list']\n",
    "        for song in songs:\n",
    "            if song['track']['has_lyrics'] == 1:\n",
    "                genre = primary_genre\n",
    "                track_id = song['track']['track_id']\n",
    "                lyrics = musixmatch.track_lyrics_get(track_id=track_id)['message']['body']\n",
    "                if len(lyrics) != 0:\n",
    "                    lyrics = lyrics['lyrics']['lyrics_body']\n",
    "                    lyrics = lyrics.split('*******', maxsplit=1)[0].strip()  # data format \n",
    "                    data.append((song['track']['artist_name'].lower(), \n",
    "                                 song['track']['track_name'], \n",
    "                                 lyrics, \n",
    "                                 genre))\n",
    "    return data"
   ]
  },
  {
   "cell_type": "markdown",
   "metadata": {},
   "source": [
    "Lists of artists:"
   ]
  },
  {
   "cell_type": "code",
   "execution_count": 462,
   "metadata": {},
   "outputs": [],
   "source": [
    "folk_artists = ['The Alamanac Singers', 'Ani DiFranco', 'Ben Harper', 'Bob Dylan', 'The Carter Family', 'Cat Stevens']\n",
    "blues_artists = ['Sena Ehrhardt', 'Josh Smith', 'Philip Sayce', \n",
    "                 'Philip Sayce', 'Roy Rogers', 'Cootie Stark', \n",
    "                 'Melvin Taylor', 'Ron Thompson', 'Mike Wheeler', \n",
    "                 'Angela Strehli', 'Tony Spinner', 'Sean Chambers', \n",
    "                 'Henrik Freischlader', 'Ana Popovic']"
   ]
  },
  {
   "cell_type": "code",
   "execution_count": 463,
   "metadata": {},
   "outputs": [
    {
     "data": {
      "application/vnd.jupyter.widget-view+json": {
       "model_id": "76e698b1c4e440e58d639e376c0aea8f",
       "version_major": 2,
       "version_minor": 0
      },
      "text/plain": [
       "HBox(children=(FloatProgress(value=0.0, max=6.0), HTML(value='')))"
      ]
     },
     "metadata": {},
     "output_type": "display_data"
    },
    {
     "name": "stdout",
     "output_type": "stream",
     "text": [
      "\n"
     ]
    }
   ],
   "source": [
    "extra_folk = []\n",
    "for artist in tqdm(folk_artists):\n",
    "    for i in range(100):\n",
    "        extra_folk.extend(find_songs(artist=artist, page_num=i, primary_genre='Folk'))"
   ]
  },
  {
   "cell_type": "code",
   "execution_count": 464,
   "metadata": {},
   "outputs": [
    {
     "data": {
      "text/html": [
       "<div>\n",
       "<style scoped>\n",
       "    .dataframe tbody tr th:only-of-type {\n",
       "        vertical-align: middle;\n",
       "    }\n",
       "\n",
       "    .dataframe tbody tr th {\n",
       "        vertical-align: top;\n",
       "    }\n",
       "\n",
       "    .dataframe thead th {\n",
       "        text-align: right;\n",
       "    }\n",
       "</style>\n",
       "<table border=\"1\" class=\"dataframe\">\n",
       "  <thead>\n",
       "    <tr style=\"text-align: right;\">\n",
       "      <th></th>\n",
       "      <th>author</th>\n",
       "      <th>song</th>\n",
       "      <th>lyrics</th>\n",
       "      <th>genre</th>\n",
       "    </tr>\n",
       "  </thead>\n",
       "  <tbody>\n",
       "    <tr>\n",
       "      <th>0</th>\n",
       "      <td>the almanac singers</td>\n",
       "      <td>House Of The Rising Sun</td>\n",
       "      <td>There is a house in New Orleans\\nThey call the...</td>\n",
       "      <td>Folk</td>\n",
       "    </tr>\n",
       "    <tr>\n",
       "      <th>1</th>\n",
       "      <td>the almanac singers</td>\n",
       "      <td>Which Side are You On?</td>\n",
       "      <td>Come, all you good workers\\nGood news to you I...</td>\n",
       "      <td>Folk</td>\n",
       "    </tr>\n",
       "    <tr>\n",
       "      <th>2</th>\n",
       "      <td>the almanac singers</td>\n",
       "      <td>Plow Under</td>\n",
       "      <td>Remember when the AAA,\\nKilled a million hogs ...</td>\n",
       "      <td>Folk</td>\n",
       "    </tr>\n",
       "    <tr>\n",
       "      <th>3</th>\n",
       "      <td>the almanac singers</td>\n",
       "      <td>Talking Union</td>\n",
       "      <td>Now, if you want higher wages let me tell you ...</td>\n",
       "      <td>Folk</td>\n",
       "    </tr>\n",
       "    <tr>\n",
       "      <th>4</th>\n",
       "      <td>the almanac singers</td>\n",
       "      <td>I Don't Want Your Millions, Mister (All I Want)</td>\n",
       "      <td>I don't want your millions, Mister,\\nI don't w...</td>\n",
       "      <td>Folk</td>\n",
       "    </tr>\n",
       "    <tr>\n",
       "      <th>...</th>\n",
       "      <td>...</td>\n",
       "      <td>...</td>\n",
       "      <td>...</td>\n",
       "      <td>...</td>\n",
       "    </tr>\n",
       "    <tr>\n",
       "      <th>4837</th>\n",
       "      <td>cat stevens</td>\n",
       "      <td>Ceylon City - Stereo Version</td>\n",
       "      <td>I'm going home to the town where I was born\\nW...</td>\n",
       "      <td>Folk</td>\n",
       "    </tr>\n",
       "    <tr>\n",
       "      <th>4838</th>\n",
       "      <td>cat stevens</td>\n",
       "      <td>A Bad Penny - Live</td>\n",
       "      <td>Oh dont say those same idle lies\\nI've heard t...</td>\n",
       "      <td>Folk</td>\n",
       "    </tr>\n",
       "    <tr>\n",
       "      <th>4839</th>\n",
       "      <td>cat stevens</td>\n",
       "      <td>Don't Be Shy (alternate version)</td>\n",
       "      <td>Don't be shy, just let your feelings roll on b...</td>\n",
       "      <td>Folk</td>\n",
       "    </tr>\n",
       "    <tr>\n",
       "      <th>4840</th>\n",
       "      <td>simtech productions feat. yusuf / cat stevens</td>\n",
       "      <td>Our Guide Is the Quraan (feat. Yusuf Islam)</td>\n",
       "      <td>All Muslims have to do five things\\nWho knows ...</td>\n",
       "      <td>Folk</td>\n",
       "    </tr>\n",
       "    <tr>\n",
       "      <th>4841</th>\n",
       "      <td>cat stevens</td>\n",
       "      <td>Heaven/ Where True Love Goes</td>\n",
       "      <td>The moment you walked inside my door\\nI knew t...</td>\n",
       "      <td>Folk</td>\n",
       "    </tr>\n",
       "  </tbody>\n",
       "</table>\n",
       "<p>4366 rows × 4 columns</p>\n",
       "</div>"
      ],
      "text/plain": [
       "                                             author  \\\n",
       "0                               the almanac singers   \n",
       "1                               the almanac singers   \n",
       "2                               the almanac singers   \n",
       "3                               the almanac singers   \n",
       "4                               the almanac singers   \n",
       "...                                             ...   \n",
       "4837                                    cat stevens   \n",
       "4838                                    cat stevens   \n",
       "4839                                    cat stevens   \n",
       "4840  simtech productions feat. yusuf / cat stevens   \n",
       "4841                                    cat stevens   \n",
       "\n",
       "                                                 song  \\\n",
       "0                             House Of The Rising Sun   \n",
       "1                              Which Side are You On?   \n",
       "2                                          Plow Under   \n",
       "3                                       Talking Union   \n",
       "4     I Don't Want Your Millions, Mister (All I Want)   \n",
       "...                                               ...   \n",
       "4837                     Ceylon City - Stereo Version   \n",
       "4838                               A Bad Penny - Live   \n",
       "4839                 Don't Be Shy (alternate version)   \n",
       "4840      Our Guide Is the Quraan (feat. Yusuf Islam)   \n",
       "4841                     Heaven/ Where True Love Goes   \n",
       "\n",
       "                                                 lyrics genre  \n",
       "0     There is a house in New Orleans\\nThey call the...  Folk  \n",
       "1     Come, all you good workers\\nGood news to you I...  Folk  \n",
       "2     Remember when the AAA,\\nKilled a million hogs ...  Folk  \n",
       "3     Now, if you want higher wages let me tell you ...  Folk  \n",
       "4     I don't want your millions, Mister,\\nI don't w...  Folk  \n",
       "...                                                 ...   ...  \n",
       "4837  I'm going home to the town where I was born\\nW...  Folk  \n",
       "4838  Oh dont say those same idle lies\\nI've heard t...  Folk  \n",
       "4839  Don't be shy, just let your feelings roll on b...  Folk  \n",
       "4840  All Muslims have to do five things\\nWho knows ...  Folk  \n",
       "4841  The moment you walked inside my door\\nI knew t...  Folk  \n",
       "\n",
       "[4366 rows x 4 columns]"
      ]
     },
     "execution_count": 464,
     "metadata": {},
     "output_type": "execute_result"
    }
   ],
   "source": [
    "extra_folk = pd.DataFrame(extra_folk, columns=COLUMNS).drop_duplicates(keep='first')\n",
    "extra_folk"
   ]
  },
  {
   "cell_type": "code",
   "execution_count": 466,
   "metadata": {},
   "outputs": [
    {
     "data": {
      "application/vnd.jupyter.widget-view+json": {
       "model_id": "4710769b1cd4488fb850b4a628a3469b",
       "version_major": 2,
       "version_minor": 0
      },
      "text/plain": [
       "HBox(children=(FloatProgress(value=0.0, max=14.0), HTML(value='')))"
      ]
     },
     "metadata": {},
     "output_type": "display_data"
    },
    {
     "name": "stdout",
     "output_type": "stream",
     "text": [
      "\n"
     ]
    }
   ],
   "source": [
    "extra_blues = []\n",
    "for artist in tqdm(blues_artists):\n",
    "    for i in range(50):\n",
    "        extra_blues.extend(find_songs(artist=artist, page_num=i, primary_genre='Blues'))"
   ]
  },
  {
   "cell_type": "code",
   "execution_count": 467,
   "metadata": {},
   "outputs": [
    {
     "data": {
      "text/html": [
       "<div>\n",
       "<style scoped>\n",
       "    .dataframe tbody tr th:only-of-type {\n",
       "        vertical-align: middle;\n",
       "    }\n",
       "\n",
       "    .dataframe tbody tr th {\n",
       "        vertical-align: top;\n",
       "    }\n",
       "\n",
       "    .dataframe thead th {\n",
       "        text-align: right;\n",
       "    }\n",
       "</style>\n",
       "<table border=\"1\" class=\"dataframe\">\n",
       "  <thead>\n",
       "    <tr style=\"text-align: right;\">\n",
       "      <th></th>\n",
       "      <th>author</th>\n",
       "      <th>song</th>\n",
       "      <th>lyrics</th>\n",
       "      <th>genre</th>\n",
       "    </tr>\n",
       "  </thead>\n",
       "  <tbody>\n",
       "    <tr>\n",
       "      <th>0</th>\n",
       "      <td>sena ehrhardt</td>\n",
       "      <td>On the Clock</td>\n",
       "      <td>Every day's our new chance to get it right in ...</td>\n",
       "      <td>Blues</td>\n",
       "    </tr>\n",
       "    <tr>\n",
       "      <th>1</th>\n",
       "      <td>sena ehrhardt</td>\n",
       "      <td>Buried Alive</td>\n",
       "      <td>Ich kann nicht schlafen, ich kann nicht atmen,...</td>\n",
       "      <td>Blues</td>\n",
       "    </tr>\n",
       "    <tr>\n",
       "      <th>4</th>\n",
       "      <td>disero feat. josh smith</td>\n",
       "      <td>Like That</td>\n",
       "      <td>When we had that feeling\\nThe stars were our c...</td>\n",
       "      <td>Blues</td>\n",
       "    </tr>\n",
       "    <tr>\n",
       "      <th>5</th>\n",
       "      <td>josh powell feat. fraser smith</td>\n",
       "      <td>Always</td>\n",
       "      <td>I believe in the light I've seen\\nAnd the life...</td>\n",
       "      <td>Blues</td>\n",
       "    </tr>\n",
       "    <tr>\n",
       "      <th>6</th>\n",
       "      <td>josh powell feat. fraser smith</td>\n",
       "      <td>Leave Me as You Find Me</td>\n",
       "      <td>All ready for letting go\\nNothing left to remi...</td>\n",
       "      <td>Blues</td>\n",
       "    </tr>\n",
       "    <tr>\n",
       "      <th>...</th>\n",
       "      <td>...</td>\n",
       "      <td>...</td>\n",
       "      <td>...</td>\n",
       "      <td>...</td>\n",
       "    </tr>\n",
       "    <tr>\n",
       "      <th>514</th>\n",
       "      <td>ana popovic</td>\n",
       "      <td>Soulful Dress</td>\n",
       "      <td>I'm gonna put on my dress\\nWith that slip way ...</td>\n",
       "      <td>Blues</td>\n",
       "    </tr>\n",
       "    <tr>\n",
       "      <th>515</th>\n",
       "      <td>ana popovic &amp; milton popovic</td>\n",
       "      <td>Evening Shadows</td>\n",
       "      <td>When evening shadows fall\\nMinutes seem so lon...</td>\n",
       "      <td>Blues</td>\n",
       "    </tr>\n",
       "    <tr>\n",
       "      <th>516</th>\n",
       "      <td>ana popovic</td>\n",
       "      <td>Mended</td>\n",
       "      <td>You crushed my world\\nThe day you went away.\\n...</td>\n",
       "      <td>Blues</td>\n",
       "    </tr>\n",
       "    <tr>\n",
       "      <th>517</th>\n",
       "      <td>ana popovic</td>\n",
       "      <td>Minute 'Till Dawn</td>\n",
       "      <td>If we look back on time gone past\\nBad moves b...</td>\n",
       "      <td>Blues</td>\n",
       "    </tr>\n",
       "    <tr>\n",
       "      <th>518</th>\n",
       "      <td>ana popovic</td>\n",
       "      <td>Count Me In - Live at The Mahindra Blues Festi...</td>\n",
       "      <td>If you're looking for some action\\nOr just way...</td>\n",
       "      <td>Blues</td>\n",
       "    </tr>\n",
       "  </tbody>\n",
       "</table>\n",
       "<p>276 rows × 4 columns</p>\n",
       "</div>"
      ],
      "text/plain": [
       "                             author  \\\n",
       "0                     sena ehrhardt   \n",
       "1                     sena ehrhardt   \n",
       "4           disero feat. josh smith   \n",
       "5    josh powell feat. fraser smith   \n",
       "6    josh powell feat. fraser smith   \n",
       "..                              ...   \n",
       "514                     ana popovic   \n",
       "515    ana popovic & milton popovic   \n",
       "516                     ana popovic   \n",
       "517                     ana popovic   \n",
       "518                     ana popovic   \n",
       "\n",
       "                                                  song  \\\n",
       "0                                         On the Clock   \n",
       "1                                         Buried Alive   \n",
       "4                                            Like That   \n",
       "5                                               Always   \n",
       "6                              Leave Me as You Find Me   \n",
       "..                                                 ...   \n",
       "514                                      Soulful Dress   \n",
       "515                                    Evening Shadows   \n",
       "516                                             Mended   \n",
       "517                                  Minute 'Till Dawn   \n",
       "518  Count Me In - Live at The Mahindra Blues Festi...   \n",
       "\n",
       "                                                lyrics  genre  \n",
       "0    Every day's our new chance to get it right in ...  Blues  \n",
       "1    Ich kann nicht schlafen, ich kann nicht atmen,...  Blues  \n",
       "4    When we had that feeling\\nThe stars were our c...  Blues  \n",
       "5    I believe in the light I've seen\\nAnd the life...  Blues  \n",
       "6    All ready for letting go\\nNothing left to remi...  Blues  \n",
       "..                                                 ...    ...  \n",
       "514  I'm gonna put on my dress\\nWith that slip way ...  Blues  \n",
       "515  When evening shadows fall\\nMinutes seem so lon...  Blues  \n",
       "516  You crushed my world\\nThe day you went away.\\n...  Blues  \n",
       "517  If we look back on time gone past\\nBad moves b...  Blues  \n",
       "518  If you're looking for some action\\nOr just way...  Blues  \n",
       "\n",
       "[276 rows x 4 columns]"
      ]
     },
     "execution_count": 467,
     "metadata": {},
     "output_type": "execute_result"
    }
   ],
   "source": [
    "extra_blues = pd.DataFrame(extra_blues, columns=COLUMNS)\n",
    "extra_blues = extra_blues.drop_duplicates(keep='first')\n",
    "extra_blues"
   ]
  },
  {
   "cell_type": "code",
   "execution_count": 483,
   "metadata": {},
   "outputs": [],
   "source": [
    "data = pd.concat([data, extra_folk, extra_blues], ignore_index=True)"
   ]
  },
  {
   "cell_type": "markdown",
   "metadata": {},
   "source": [
    "Get rap lyrics:"
   ]
  },
  {
   "cell_type": "code",
   "execution_count": 484,
   "metadata": {},
   "outputs": [
    {
     "data": {
      "application/vnd.jupyter.widget-view+json": {
       "model_id": "b06e6a58f66d448a96161be3e9808b92",
       "version_major": 2,
       "version_minor": 0
      },
      "text/plain": [
       "HBox(children=(FloatProgress(value=0.0, max=37.0), HTML(value='')))"
      ]
     },
     "metadata": {},
     "output_type": "display_data"
    },
    {
     "name": "stdout",
     "output_type": "stream",
     "text": [
      "\n"
     ]
    }
   ],
   "source": [
    "rap = os.listdir('./rap_lyrics')\n",
    "\n",
    "rap_data = []\n",
    "for file in tqdm(rap):\n",
    "    if file.endswith('.txt'):\n",
    "        with open('./rap_lyrics/'+file, encoding='utf-8') as fid:\n",
    "            text = fid.read()\n",
    "        artist = file.strip('_lyrics.txt').replace('_', ' ').lower()\n",
    "        songs = text.split('\\n\\n')\n",
    "        for i, song in enumerate(songs):\n",
    "            rap_data.append((artist, f'unk{i}', song, 'Rap'))"
   ]
  },
  {
   "cell_type": "code",
   "execution_count": 485,
   "metadata": {},
   "outputs": [
    {
     "data": {
      "text/plain": [
       "10262"
      ]
     },
     "execution_count": 485,
     "metadata": {},
     "output_type": "execute_result"
    }
   ],
   "source": [
    "len(rap_data)"
   ]
  },
  {
   "cell_type": "code",
   "execution_count": 486,
   "metadata": {},
   "outputs": [],
   "source": [
    "data = data[data['genre'] != 'Rap']  # to avoid duplicates"
   ]
  },
  {
   "cell_type": "code",
   "execution_count": 487,
   "metadata": {},
   "outputs": [],
   "source": [
    "rap_data = pd.DataFrame(rap_data, columns=COLUMNS)\n",
    "data = pd.concat([data, rap_data], ignore_index=True).drop_duplicates(keep='first')"
   ]
  },
  {
   "cell_type": "code",
   "execution_count": 488,
   "metadata": {},
   "outputs": [
    {
     "data": {
      "text/html": [
       "<div>\n",
       "<style scoped>\n",
       "    .dataframe tbody tr th:only-of-type {\n",
       "        vertical-align: middle;\n",
       "    }\n",
       "\n",
       "    .dataframe tbody tr th {\n",
       "        vertical-align: top;\n",
       "    }\n",
       "\n",
       "    .dataframe thead th {\n",
       "        text-align: right;\n",
       "    }\n",
       "</style>\n",
       "<table border=\"1\" class=\"dataframe\">\n",
       "  <thead>\n",
       "    <tr style=\"text-align: right;\">\n",
       "      <th></th>\n",
       "      <th>author</th>\n",
       "      <th>song</th>\n",
       "      <th>lyrics</th>\n",
       "      <th>genre</th>\n",
       "    </tr>\n",
       "  </thead>\n",
       "  <tbody>\n",
       "    <tr>\n",
       "      <th>0</th>\n",
       "      <td>911</td>\n",
       "      <td>wonderland</td>\n",
       "      <td>wey - oh , wey - oh , we 'll be as one in wond...</td>\n",
       "      <td>Rock</td>\n",
       "    </tr>\n",
       "    <tr>\n",
       "      <th>1</th>\n",
       "      <td>2 chainz</td>\n",
       "      <td>intro</td>\n",
       "      <td>dj technik mixtape mastermind , trap check . t...</td>\n",
       "      <td>Music</td>\n",
       "    </tr>\n",
       "    <tr>\n",
       "      <th>2</th>\n",
       "      <td>2 chainz</td>\n",
       "      <td>cowboy</td>\n",
       "      <td>it 's all the same , only the names will chang...</td>\n",
       "      <td>Music</td>\n",
       "    </tr>\n",
       "    <tr>\n",
       "      <th>3</th>\n",
       "      <td>2 chainz</td>\n",
       "      <td>too easy</td>\n",
       "      <td>, the shit to easy bro , its too fucking easy ...</td>\n",
       "      <td>Music</td>\n",
       "    </tr>\n",
       "    <tr>\n",
       "      <th>4</th>\n",
       "      <td>2 chainz</td>\n",
       "      <td>gasolean</td>\n",
       "      <td>see i be rocking truey and my belt by louie , ...</td>\n",
       "      <td>Music</td>\n",
       "    </tr>\n",
       "    <tr>\n",
       "      <th>...</th>\n",
       "      <td>...</td>\n",
       "      <td>...</td>\n",
       "      <td>...</td>\n",
       "      <td>...</td>\n",
       "    </tr>\n",
       "    <tr>\n",
       "      <th>45432</th>\n",
       "      <td>childish gambino</td>\n",
       "      <td>unk277</td>\n",
       "      <td>Ba-b-ba-b-ba-ba\\nDuh-d-duh-duh-d-duh\\nDuh-duh-...</td>\n",
       "      <td>Rap</td>\n",
       "    </tr>\n",
       "    <tr>\n",
       "      <th>45433</th>\n",
       "      <td>childish gambino</td>\n",
       "      <td>unk278</td>\n",
       "      <td>Childish Gambino, lame niggas never heard of i...</td>\n",
       "      <td>Rap</td>\n",
       "    </tr>\n",
       "    <tr>\n",
       "      <th>45434</th>\n",
       "      <td>childish gambino</td>\n",
       "      <td>unk279</td>\n",
       "      <td>Runnin’ through the moment as the sun goes dow...</td>\n",
       "      <td>Rap</td>\n",
       "    </tr>\n",
       "    <tr>\n",
       "      <th>45435</th>\n",
       "      <td>childish gambino</td>\n",
       "      <td>unk280</td>\n",
       "      <td>Gambeezy make it work somethin’, let me check ...</td>\n",
       "      <td>Rap</td>\n",
       "    </tr>\n",
       "    <tr>\n",
       "      <th>45436</th>\n",
       "      <td>childish gambino</td>\n",
       "      <td>unk281</td>\n",
       "      <td>Running through the moment as the sun goes dow...</td>\n",
       "      <td>Rap</td>\n",
       "    </tr>\n",
       "  </tbody>\n",
       "</table>\n",
       "<p>45437 rows × 4 columns</p>\n",
       "</div>"
      ],
      "text/plain": [
       "                 author        song  \\\n",
       "0                   911  wonderland   \n",
       "1              2 chainz       intro   \n",
       "2              2 chainz      cowboy   \n",
       "3              2 chainz    too easy   \n",
       "4              2 chainz    gasolean   \n",
       "...                 ...         ...   \n",
       "45432  childish gambino      unk277   \n",
       "45433  childish gambino      unk278   \n",
       "45434  childish gambino      unk279   \n",
       "45435  childish gambino      unk280   \n",
       "45436  childish gambino      unk281   \n",
       "\n",
       "                                                  lyrics  genre  \n",
       "0      wey - oh , wey - oh , we 'll be as one in wond...   Rock  \n",
       "1      dj technik mixtape mastermind , trap check . t...  Music  \n",
       "2      it 's all the same , only the names will chang...  Music  \n",
       "3      , the shit to easy bro , its too fucking easy ...  Music  \n",
       "4      see i be rocking truey and my belt by louie , ...  Music  \n",
       "...                                                  ...    ...  \n",
       "45432  Ba-b-ba-b-ba-ba\\nDuh-d-duh-duh-d-duh\\nDuh-duh-...    Rap  \n",
       "45433  Childish Gambino, lame niggas never heard of i...    Rap  \n",
       "45434  Runnin’ through the moment as the sun goes dow...    Rap  \n",
       "45435  Gambeezy make it work somethin’, let me check ...    Rap  \n",
       "45436  Running through the moment as the sun goes dow...    Rap  \n",
       "\n",
       "[45437 rows x 4 columns]"
      ]
     },
     "execution_count": 488,
     "metadata": {},
     "output_type": "execute_result"
    }
   ],
   "source": [
    "data"
   ]
  },
  {
   "cell_type": "code",
   "execution_count": 489,
   "metadata": {},
   "outputs": [
    {
     "data": {
      "text/plain": [
       "Pop        11987\n",
       "Rock       11311\n",
       "Rap        10262\n",
       "Country     5307\n",
       "Folk        4366\n",
       "Music       1541\n",
       "Blues        644\n",
       "Funk          19\n",
       "Name: genre, dtype: int64"
      ]
     },
     "execution_count": 489,
     "metadata": {},
     "output_type": "execute_result"
    }
   ],
   "source": [
    "data.genre.value_counts()"
   ]
  },
  {
   "cell_type": "markdown",
   "metadata": {},
   "source": [
    "### Part 2: Preprocessing\n",
    "#### Tokenization"
   ]
  },
  {
   "cell_type": "code",
   "execution_count": 3,
   "metadata": {},
   "outputs": [],
   "source": [
    "import pandas as pd"
   ]
  },
  {
   "cell_type": "code",
   "execution_count": 24,
   "metadata": {},
   "outputs": [],
   "source": [
    "data = pd.read_csv('./RS/data/final_data.csv')"
   ]
  },
  {
   "cell_type": "code",
   "execution_count": 25,
   "metadata": {},
   "outputs": [
    {
     "data": {
      "text/html": [
       "<div>\n",
       "<style scoped>\n",
       "    .dataframe tbody tr th:only-of-type {\n",
       "        vertical-align: middle;\n",
       "    }\n",
       "\n",
       "    .dataframe tbody tr th {\n",
       "        vertical-align: top;\n",
       "    }\n",
       "\n",
       "    .dataframe thead th {\n",
       "        text-align: right;\n",
       "    }\n",
       "</style>\n",
       "<table border=\"1\" class=\"dataframe\">\n",
       "  <thead>\n",
       "    <tr style=\"text-align: right;\">\n",
       "      <th></th>\n",
       "      <th>subset</th>\n",
       "      <th>author</th>\n",
       "      <th>song</th>\n",
       "      <th>genre</th>\n",
       "      <th>lyrics</th>\n",
       "      <th>tokenized</th>\n",
       "      <th>length</th>\n",
       "      <th>mean_depth</th>\n",
       "    </tr>\n",
       "  </thead>\n",
       "  <tbody>\n",
       "    <tr>\n",
       "      <th>0</th>\n",
       "      <td>tr</td>\n",
       "      <td>chance the rappe</td>\n",
       "      <td>unk228</td>\n",
       "      <td>Rap</td>\n",
       "      <td>Another weekend full of blunts and brews\\nToo ...</td>\n",
       "      <td>Another weekend full of blunts and brews \\n To...</td>\n",
       "      <td>166</td>\n",
       "      <td>68.000000</td>\n",
       "    </tr>\n",
       "    <tr>\n",
       "      <th>1</th>\n",
       "      <td>tr</td>\n",
       "      <td>megan &amp; liz</td>\n",
       "      <td>love war</td>\n",
       "      <td>Country</td>\n",
       "      <td>i do n't believe in wizards or witches , but b...</td>\n",
       "      <td>i do n't believe in wizards or witches , but b...</td>\n",
       "      <td>210</td>\n",
       "      <td>13.200000</td>\n",
       "    </tr>\n",
       "    <tr>\n",
       "      <th>2</th>\n",
       "      <td>tr</td>\n",
       "      <td>jamiroquai</td>\n",
       "      <td>if i like it, i do it</td>\n",
       "      <td>Pop</td>\n",
       "      <td>if i like it i just do it , say that we have a...</td>\n",
       "      <td>if i like it i just do it , say that we have a...</td>\n",
       "      <td>332</td>\n",
       "      <td>29.750000</td>\n",
       "    </tr>\n",
       "    <tr>\n",
       "      <th>3</th>\n",
       "      <td>tr</td>\n",
       "      <td>drake</td>\n",
       "      <td>unk172</td>\n",
       "      <td>Rap</td>\n",
       "      <td>Done sayin' I'm done playin'\\nLast time was on...</td>\n",
       "      <td>Done sayin ' I 'm done playin ' \\n Last time w...</td>\n",
       "      <td>271</td>\n",
       "      <td>33.666667</td>\n",
       "    </tr>\n",
       "    <tr>\n",
       "      <th>4</th>\n",
       "      <td>tr</td>\n",
       "      <td>j cole</td>\n",
       "      <td>unk152</td>\n",
       "      <td>Rap</td>\n",
       "      <td>This next three bars is dedicated to the retar...</td>\n",
       "      <td>This next three bars is dedicated to the retar...</td>\n",
       "      <td>121</td>\n",
       "      <td>48.000000</td>\n",
       "    </tr>\n",
       "    <tr>\n",
       "      <th>...</th>\n",
       "      <td>...</td>\n",
       "      <td>...</td>\n",
       "      <td>...</td>\n",
       "      <td>...</td>\n",
       "      <td>...</td>\n",
       "      <td>...</td>\n",
       "      <td>...</td>\n",
       "      <td>...</td>\n",
       "    </tr>\n",
       "    <tr>\n",
       "      <th>20577</th>\n",
       "      <td>te</td>\n",
       "      <td>tyler the creato</td>\n",
       "      <td>unk103</td>\n",
       "      <td>Rap</td>\n",
       "      <td>\"Can't they just be happy for me like, a kid w...</td>\n",
       "      <td>\" Ca n't they just be happy for me like , a ki...</td>\n",
       "      <td>152</td>\n",
       "      <td>4.909091</td>\n",
       "    </tr>\n",
       "    <tr>\n",
       "      <th>20578</th>\n",
       "      <td>te</td>\n",
       "      <td>talib kwe</td>\n",
       "      <td>unk54</td>\n",
       "      <td>Rap</td>\n",
       "      <td>To the mothers (they neglected) to the fathers...</td>\n",
       "      <td>To the mothers ( they neglected ) to the fathe...</td>\n",
       "      <td>220</td>\n",
       "      <td>83.000000</td>\n",
       "    </tr>\n",
       "    <tr>\n",
       "      <th>20579</th>\n",
       "      <td>te</td>\n",
       "      <td>nitty gritty dirt band</td>\n",
       "      <td>you don't know my mind</td>\n",
       "      <td>Country</td>\n",
       "      <td>honey you do n't know my mind i 'm lonesome al...</td>\n",
       "      <td>honey you do n't know my mind i ' m lonesome a...</td>\n",
       "      <td>194</td>\n",
       "      <td>69.000000</td>\n",
       "    </tr>\n",
       "    <tr>\n",
       "      <th>20580</th>\n",
       "      <td>te</td>\n",
       "      <td>martin, ricky</td>\n",
       "      <td>vida</td>\n",
       "      <td>Pop</td>\n",
       "      <td>finally the time has come , let 's just dance ...</td>\n",
       "      <td>finally the time has come , let 's just dance ...</td>\n",
       "      <td>368</td>\n",
       "      <td>131.000000</td>\n",
       "    </tr>\n",
       "    <tr>\n",
       "      <th>20581</th>\n",
       "      <td>te</td>\n",
       "      <td>talib kwe</td>\n",
       "      <td>unk189</td>\n",
       "      <td>Rap</td>\n",
       "      <td>Hole up\\nI realized early that black girls car...</td>\n",
       "      <td>Hole up \\n I realized early that black girls c...</td>\n",
       "      <td>147</td>\n",
       "      <td>30.500000</td>\n",
       "    </tr>\n",
       "  </tbody>\n",
       "</table>\n",
       "<p>20582 rows × 8 columns</p>\n",
       "</div>"
      ],
      "text/plain": [
       "      subset                  author                    song    genre  \\\n",
       "0         tr        chance the rappe                  unk228      Rap   \n",
       "1         tr             megan & liz                love war  Country   \n",
       "2         tr              jamiroquai   if i like it, i do it      Pop   \n",
       "3         tr                   drake                  unk172      Rap   \n",
       "4         tr                  j cole                  unk152      Rap   \n",
       "...      ...                     ...                     ...      ...   \n",
       "20577     te        tyler the creato                  unk103      Rap   \n",
       "20578     te               talib kwe                   unk54      Rap   \n",
       "20579     te  nitty gritty dirt band  you don't know my mind  Country   \n",
       "20580     te           martin, ricky                    vida      Pop   \n",
       "20581     te               talib kwe                  unk189      Rap   \n",
       "\n",
       "                                                  lyrics  \\\n",
       "0      Another weekend full of blunts and brews\\nToo ...   \n",
       "1      i do n't believe in wizards or witches , but b...   \n",
       "2      if i like it i just do it , say that we have a...   \n",
       "3      Done sayin' I'm done playin'\\nLast time was on...   \n",
       "4      This next three bars is dedicated to the retar...   \n",
       "...                                                  ...   \n",
       "20577  \"Can't they just be happy for me like, a kid w...   \n",
       "20578  To the mothers (they neglected) to the fathers...   \n",
       "20579  honey you do n't know my mind i 'm lonesome al...   \n",
       "20580  finally the time has come , let 's just dance ...   \n",
       "20581  Hole up\\nI realized early that black girls car...   \n",
       "\n",
       "                                               tokenized  length  mean_depth  \n",
       "0      Another weekend full of blunts and brews \\n To...     166   68.000000  \n",
       "1      i do n't believe in wizards or witches , but b...     210   13.200000  \n",
       "2      if i like it i just do it , say that we have a...     332   29.750000  \n",
       "3      Done sayin ' I 'm done playin ' \\n Last time w...     271   33.666667  \n",
       "4      This next three bars is dedicated to the retar...     121   48.000000  \n",
       "...                                                  ...     ...         ...  \n",
       "20577  \" Ca n't they just be happy for me like , a ki...     152    4.909091  \n",
       "20578  To the mothers ( they neglected ) to the fathe...     220   83.000000  \n",
       "20579  honey you do n't know my mind i ' m lonesome a...     194   69.000000  \n",
       "20580  finally the time has come , let 's just dance ...     368  131.000000  \n",
       "20581  Hole up \\n I realized early that black girls c...     147   30.500000  \n",
       "\n",
       "[20582 rows x 8 columns]"
      ]
     },
     "execution_count": 25,
     "metadata": {},
     "output_type": "execute_result"
    }
   ],
   "source": [
    "data"
   ]
  },
  {
   "cell_type": "code",
   "execution_count": 26,
   "metadata": {},
   "outputs": [],
   "source": [
    "from spacy.tokenizer import Tokenizer\n",
    "from spacy.lang.en import English\n",
    "nlp = English()"
   ]
  },
  {
   "cell_type": "code",
   "execution_count": 27,
   "metadata": {},
   "outputs": [],
   "source": [
    "def preprocess(text):\n",
    "    \"\"\"\n",
    "    tokenize text\n",
    "    \"\"\"\n",
    "    return ' '.join([token.text for token in nlp(text)])"
   ]
  },
  {
   "cell_type": "code",
   "execution_count": 28,
   "metadata": {},
   "outputs": [],
   "source": [
    "data['tokenized'] = data['lyrics'].apply(preprocess)"
   ]
  },
  {
   "cell_type": "markdown",
   "metadata": {},
   "source": [
    "#### Cleaning data:\n",
    "- dropping None values\n",
    "- dropping Funk songs (as there is too little of them)\n",
    "- dropping songs with lyrics length < 20 words"
   ]
  },
  {
   "cell_type": "code",
   "execution_count": 29,
   "metadata": {},
   "outputs": [],
   "source": [
    "data = data.drop_duplicates('tokenized', keep='first').dropna()\n",
    "data = data[data['genre']!= 'Funk']"
   ]
  },
  {
   "cell_type": "code",
   "execution_count": 30,
   "metadata": {},
   "outputs": [],
   "source": [
    "def get_length(song):\n",
    "    try:\n",
    "        length = len(song.split())\n",
    "    except AttributeError:\n",
    "        length = 0 \n",
    "    return length"
   ]
  },
  {
   "cell_type": "code",
   "execution_count": 31,
   "metadata": {},
   "outputs": [],
   "source": [
    "data['length'] = data['tokenized'].apply(get_length)"
   ]
  },
  {
   "cell_type": "code",
   "execution_count": 34,
   "metadata": {},
   "outputs": [],
   "source": [
    "data = data[data['length'] > 20]"
   ]
  },
  {
   "cell_type": "markdown",
   "metadata": {},
   "source": [
    "Order columns"
   ]
  },
  {
   "cell_type": "code",
   "execution_count": 40,
   "metadata": {},
   "outputs": [
    {
     "data": {
      "text/html": [
       "<div>\n",
       "<style scoped>\n",
       "    .dataframe tbody tr th:only-of-type {\n",
       "        vertical-align: middle;\n",
       "    }\n",
       "\n",
       "    .dataframe tbody tr th {\n",
       "        vertical-align: top;\n",
       "    }\n",
       "\n",
       "    .dataframe thead th {\n",
       "        text-align: right;\n",
       "    }\n",
       "</style>\n",
       "<table border=\"1\" class=\"dataframe\">\n",
       "  <thead>\n",
       "    <tr style=\"text-align: right;\">\n",
       "      <th></th>\n",
       "      <th>author</th>\n",
       "      <th>song</th>\n",
       "      <th>lyrics</th>\n",
       "      <th>genre</th>\n",
       "      <th>tokenized</th>\n",
       "      <th>length</th>\n",
       "    </tr>\n",
       "  </thead>\n",
       "  <tbody>\n",
       "    <tr>\n",
       "      <th>0</th>\n",
       "      <td>chance the rappe</td>\n",
       "      <td>unk228</td>\n",
       "      <td>Another weekend full of blunts and brews\\nToo ...</td>\n",
       "      <td>Rap</td>\n",
       "      <td>Another weekend full of blunts and brews \\n To...</td>\n",
       "      <td>166</td>\n",
       "    </tr>\n",
       "    <tr>\n",
       "      <th>1</th>\n",
       "      <td>megan &amp; liz</td>\n",
       "      <td>love war</td>\n",
       "      <td>i do n't believe in wizards or witches , but b...</td>\n",
       "      <td>Country</td>\n",
       "      <td>i do n't believe in wizards or witches , but b...</td>\n",
       "      <td>210</td>\n",
       "    </tr>\n",
       "    <tr>\n",
       "      <th>2</th>\n",
       "      <td>jamiroquai</td>\n",
       "      <td>if i like it, i do it</td>\n",
       "      <td>if i like it i just do it , say that we have a...</td>\n",
       "      <td>Pop</td>\n",
       "      <td>if i like it i just do it , say that we have a...</td>\n",
       "      <td>332</td>\n",
       "    </tr>\n",
       "    <tr>\n",
       "      <th>3</th>\n",
       "      <td>drake</td>\n",
       "      <td>unk172</td>\n",
       "      <td>Done sayin' I'm done playin'\\nLast time was on...</td>\n",
       "      <td>Rap</td>\n",
       "      <td>Done sayin ' I 'm done playin ' \\n Last time w...</td>\n",
       "      <td>271</td>\n",
       "    </tr>\n",
       "    <tr>\n",
       "      <th>4</th>\n",
       "      <td>j cole</td>\n",
       "      <td>unk152</td>\n",
       "      <td>This next three bars is dedicated to the retar...</td>\n",
       "      <td>Rap</td>\n",
       "      <td>This next three bars is dedicated to the retar...</td>\n",
       "      <td>121</td>\n",
       "    </tr>\n",
       "    <tr>\n",
       "      <th>...</th>\n",
       "      <td>...</td>\n",
       "      <td>...</td>\n",
       "      <td>...</td>\n",
       "      <td>...</td>\n",
       "      <td>...</td>\n",
       "      <td>...</td>\n",
       "    </tr>\n",
       "    <tr>\n",
       "      <th>20577</th>\n",
       "      <td>tyler the creato</td>\n",
       "      <td>unk103</td>\n",
       "      <td>\"Can't they just be happy for me like, a kid w...</td>\n",
       "      <td>Rap</td>\n",
       "      <td>\" Ca n't they just be happy for me like , a ki...</td>\n",
       "      <td>152</td>\n",
       "    </tr>\n",
       "    <tr>\n",
       "      <th>20578</th>\n",
       "      <td>talib kwe</td>\n",
       "      <td>unk54</td>\n",
       "      <td>To the mothers (they neglected) to the fathers...</td>\n",
       "      <td>Rap</td>\n",
       "      <td>To the mothers ( they neglected ) to the fathe...</td>\n",
       "      <td>220</td>\n",
       "    </tr>\n",
       "    <tr>\n",
       "      <th>20579</th>\n",
       "      <td>nitty gritty dirt band</td>\n",
       "      <td>you don't know my mind</td>\n",
       "      <td>honey you do n't know my mind i 'm lonesome al...</td>\n",
       "      <td>Country</td>\n",
       "      <td>honey you do n't know my mind i ' m lonesome a...</td>\n",
       "      <td>194</td>\n",
       "    </tr>\n",
       "    <tr>\n",
       "      <th>20580</th>\n",
       "      <td>martin, ricky</td>\n",
       "      <td>vida</td>\n",
       "      <td>finally the time has come , let 's just dance ...</td>\n",
       "      <td>Pop</td>\n",
       "      <td>finally the time has come , let 's just dance ...</td>\n",
       "      <td>368</td>\n",
       "    </tr>\n",
       "    <tr>\n",
       "      <th>20581</th>\n",
       "      <td>talib kwe</td>\n",
       "      <td>unk189</td>\n",
       "      <td>Hole up\\nI realized early that black girls car...</td>\n",
       "      <td>Rap</td>\n",
       "      <td>Hole up \\n I realized early that black girls c...</td>\n",
       "      <td>147</td>\n",
       "    </tr>\n",
       "  </tbody>\n",
       "</table>\n",
       "<p>20582 rows × 6 columns</p>\n",
       "</div>"
      ],
      "text/plain": [
       "                       author                    song  \\\n",
       "0            chance the rappe                  unk228   \n",
       "1                 megan & liz                love war   \n",
       "2                  jamiroquai   if i like it, i do it   \n",
       "3                       drake                  unk172   \n",
       "4                      j cole                  unk152   \n",
       "...                       ...                     ...   \n",
       "20577        tyler the creato                  unk103   \n",
       "20578               talib kwe                   unk54   \n",
       "20579  nitty gritty dirt band  you don't know my mind   \n",
       "20580           martin, ricky                    vida   \n",
       "20581               talib kwe                  unk189   \n",
       "\n",
       "                                                  lyrics    genre  \\\n",
       "0      Another weekend full of blunts and brews\\nToo ...      Rap   \n",
       "1      i do n't believe in wizards or witches , but b...  Country   \n",
       "2      if i like it i just do it , say that we have a...      Pop   \n",
       "3      Done sayin' I'm done playin'\\nLast time was on...      Rap   \n",
       "4      This next three bars is dedicated to the retar...      Rap   \n",
       "...                                                  ...      ...   \n",
       "20577  \"Can't they just be happy for me like, a kid w...      Rap   \n",
       "20578  To the mothers (they neglected) to the fathers...      Rap   \n",
       "20579  honey you do n't know my mind i 'm lonesome al...  Country   \n",
       "20580  finally the time has come , let 's just dance ...      Pop   \n",
       "20581  Hole up\\nI realized early that black girls car...      Rap   \n",
       "\n",
       "                                               tokenized  length  \n",
       "0      Another weekend full of blunts and brews \\n To...     166  \n",
       "1      i do n't believe in wizards or witches , but b...     210  \n",
       "2      if i like it i just do it , say that we have a...     332  \n",
       "3      Done sayin ' I 'm done playin ' \\n Last time w...     271  \n",
       "4      This next three bars is dedicated to the retar...     121  \n",
       "...                                                  ...     ...  \n",
       "20577  \" Ca n't they just be happy for me like , a ki...     152  \n",
       "20578  To the mothers ( they neglected ) to the fathe...     220  \n",
       "20579  honey you do n't know my mind i ' m lonesome a...     194  \n",
       "20580  finally the time has come , let 's just dance ...     368  \n",
       "20581  Hole up \\n I realized early that black girls c...     147  \n",
       "\n",
       "[20582 rows x 6 columns]"
      ]
     },
     "execution_count": 40,
     "metadata": {},
     "output_type": "execute_result"
    }
   ],
   "source": [
    "data = data[['author', 'song', 'lyrics', 'genre', 'tokenized', 'length']]\n",
    "data"
   ]
  },
  {
   "cell_type": "markdown",
   "metadata": {},
   "source": [
    "### Split to train/test\n",
    "<code>GroupKFold</code> to ensure ther is no artist overlap between splits => avoid overfitting as artists are typically prone to one particular genre"
   ]
  },
  {
   "cell_type": "code",
   "execution_count": 41,
   "metadata": {},
   "outputs": [],
   "source": [
    "from sklearn.utils import shuffle\n",
    "from sklearn.model_selection import GroupKFold, train_test_split\n",
    "import numpy as np\n",
    "\n",
    "\n",
    "group_kfold = GroupKFold(n_splits=2)\n",
    "columns = ['author', 'song', 'lyrics', 'genre', 'tokenized', 'length']\n",
    "\n",
    "\n",
    "def get_sample(data, subset, col):\n",
    "    for subset_ind, other_ind in group_kfold.split(data, groups=data[col]):\n",
    "        X_subset, X_other = np.array(data)[subset_ind], np.array(data)[other_ind]\n",
    "    subset.extend(X_subset)\n",
    "    return subset, X_other\n",
    "\n",
    "\n",
    "def split_data(data, col, coef, columns=columns):\n",
    "    train, test = [], []\n",
    "    train, left = get_sample(data, train, col=col)\n",
    "    while len(train)/len(data) < coef:\n",
    "        left = pd.DataFrame(left, columns=columns)\n",
    "        train, left = get_sample(left, train, col=col)\n",
    "    else:\n",
    "        test = pd.DataFrame(left, columns=columns)\n",
    "    return train, test"
   ]
  },
  {
   "cell_type": "code",
   "execution_count": 42,
   "metadata": {},
   "outputs": [],
   "source": [
    "train, test = split_data(data, col='author', coef=0.8, columns=columns)"
   ]
  },
  {
   "cell_type": "code",
   "execution_count": 43,
   "metadata": {},
   "outputs": [],
   "source": [
    "train = pd.DataFrame(train, columns=columns)\n",
    "train['subset'] = 'tr'"
   ]
  },
  {
   "cell_type": "code",
   "execution_count": 44,
   "metadata": {},
   "outputs": [],
   "source": [
    "test = pd.DataFrame(test, columns=columns)\n",
    "test['subset'] = 'te'"
   ]
  },
  {
   "cell_type": "code",
   "execution_count": 45,
   "metadata": {},
   "outputs": [
    {
     "data": {
      "text/plain": [
       "Rap        5074\n",
       "Country    4348\n",
       "Folk       2730\n",
       "Rock       2704\n",
       "Pop        2699\n",
       "Blues       455\n",
       "Name: genre, dtype: int64"
      ]
     },
     "execution_count": 45,
     "metadata": {},
     "output_type": "execute_result"
    }
   ],
   "source": [
    "train.genre.value_counts()"
   ]
  },
  {
   "cell_type": "code",
   "execution_count": 46,
   "metadata": {},
   "outputs": [
    {
     "data": {
      "text/plain": [
       "Rap        962\n",
       "Country    655\n",
       "Pop        401\n",
       "Rock       396\n",
       "Blues      115\n",
       "Folk        43\n",
       "Name: genre, dtype: int64"
      ]
     },
     "execution_count": 46,
     "metadata": {},
     "output_type": "execute_result"
    }
   ],
   "source": [
    "test.genre.value_counts()"
   ]
  },
  {
   "cell_type": "markdown",
   "metadata": {},
   "source": [
    "#### Balance classes"
   ]
  },
  {
   "cell_type": "code",
   "execution_count": 47,
   "metadata": {},
   "outputs": [],
   "source": [
    "from sklearn.utils import shuffle\n",
    "\n",
    "\n",
    "def smooth_bins(data, feature):\n",
    "    smooth_data = []\n",
    "    n = len(data[feature].unique())\n",
    "    sort = None\n",
    "    for subset in ['tr', 'te']:\n",
    "        subdata = []\n",
    "        df = data[data['subset']==subset]\n",
    "        if subset == 'tr':\n",
    "            class_size = 2500\n",
    "        else:\n",
    "            class_size = 600\n",
    "        for feat_class in set(df[feature].tolist()):\n",
    "            if feat_class == 'Rap':\n",
    "                sort = 'length'\n",
    "                class_size *= 2  # rap lyrics are taken from another source and they are not full => shorter\n",
    "            cl = df[df[feature]==feat_class]\n",
    "            if sort:\n",
    "                cl = cl.sort_values(by='length', ascending=False)\n",
    "            subdata.append(cl.head(class_size))\n",
    "        smooth_data.append(shuffle(pd.concat(subdata)))\n",
    "    smooth_data = pd.concat(smooth_data, ignore_index=True)\n",
    "    return smooth_data"
   ]
  },
  {
   "cell_type": "code",
   "execution_count": 48,
   "metadata": {},
   "outputs": [],
   "source": [
    "data = pd.concat([train, test], ignore_index=True)\n",
    "data = smooth_bins(data, 'genre')"
   ]
  },
  {
   "cell_type": "code",
   "execution_count": 50,
   "metadata": {},
   "outputs": [],
   "source": [
    "data = data[data['genre'] != 'Music']  # general tags"
   ]
  },
  {
   "cell_type": "code",
   "execution_count": 51,
   "metadata": {},
   "outputs": [
    {
     "data": {
      "text/html": [
       "<div>\n",
       "<style scoped>\n",
       "    .dataframe tbody tr th:only-of-type {\n",
       "        vertical-align: middle;\n",
       "    }\n",
       "\n",
       "    .dataframe tbody tr th {\n",
       "        vertical-align: top;\n",
       "    }\n",
       "\n",
       "    .dataframe thead th {\n",
       "        text-align: right;\n",
       "    }\n",
       "</style>\n",
       "<table border=\"1\" class=\"dataframe\">\n",
       "  <thead>\n",
       "    <tr style=\"text-align: right;\">\n",
       "      <th></th>\n",
       "      <th>author</th>\n",
       "      <th>song</th>\n",
       "      <th>lyrics</th>\n",
       "      <th>genre</th>\n",
       "      <th>tokenized</th>\n",
       "      <th>length</th>\n",
       "      <th>subset</th>\n",
       "    </tr>\n",
       "  </thead>\n",
       "  <tbody>\n",
       "    <tr>\n",
       "      <th>0</th>\n",
       "      <td>sammy davis jr.</td>\n",
       "      <td>once in a lifetime</td>\n",
       "      <td>once in a lifetime , just once in a lifetime ,...</td>\n",
       "      <td>Pop</td>\n",
       "      <td>once in a lifetime , just once in a lifetime ,...</td>\n",
       "      <td>102</td>\n",
       "      <td>tr</td>\n",
       "    </tr>\n",
       "    <tr>\n",
       "      <th>1</th>\n",
       "      <td>nf</td>\n",
       "      <td>unk267</td>\n",
       "      <td>Started as a dream, grow into reality\\nMade a ...</td>\n",
       "      <td>Rap</td>\n",
       "      <td>Started as a dream , grow into reality \\n Made...</td>\n",
       "      <td>159</td>\n",
       "      <td>tr</td>\n",
       "    </tr>\n",
       "    <tr>\n",
       "      <th>2</th>\n",
       "      <td>pusha-t</td>\n",
       "      <td>unk81</td>\n",
       "      <td>This that shit that ya'll wanted\\nThis shit so...</td>\n",
       "      <td>Rap</td>\n",
       "      <td>This that shit that ya'll wanted \\n This shit ...</td>\n",
       "      <td>193</td>\n",
       "      <td>tr</td>\n",
       "    </tr>\n",
       "    <tr>\n",
       "      <th>3</th>\n",
       "      <td>johnny paycheck</td>\n",
       "      <td>spread it around</td>\n",
       "      <td>if you woke up this morning on the right side ...</td>\n",
       "      <td>Country</td>\n",
       "      <td>if you woke up this morning on the right side ...</td>\n",
       "      <td>158</td>\n",
       "      <td>tr</td>\n",
       "    </tr>\n",
       "    <tr>\n",
       "      <th>4</th>\n",
       "      <td>squeeze</td>\n",
       "      <td>what the butler saw</td>\n",
       "      <td>pacing through the flickering light , a velvet...</td>\n",
       "      <td>Rock</td>\n",
       "      <td>pacing through the flickering light , a velvet...</td>\n",
       "      <td>273</td>\n",
       "      <td>tr</td>\n",
       "    </tr>\n",
       "    <tr>\n",
       "      <th>...</th>\n",
       "      <td>...</td>\n",
       "      <td>...</td>\n",
       "      <td>...</td>\n",
       "      <td>...</td>\n",
       "      <td>...</td>\n",
       "      <td>...</td>\n",
       "      <td>...</td>\n",
       "    </tr>\n",
       "    <tr>\n",
       "      <th>20503</th>\n",
       "      <td>big l</td>\n",
       "      <td>unk127</td>\n",
       "      <td>Aiyyo; I heard your single, you better make a ...</td>\n",
       "      <td>Rap</td>\n",
       "      <td>Aiyyo ; I heard your single , you better make ...</td>\n",
       "      <td>155</td>\n",
       "      <td>te</td>\n",
       "    </tr>\n",
       "    <tr>\n",
       "      <th>20504</th>\n",
       "      <td>randy newman</td>\n",
       "      <td>i'm dead (but i don't know it)</td>\n",
       "      <td>i have nothing left to say , but i 'm gon na s...</td>\n",
       "      <td>Rock</td>\n",
       "      <td>i have nothing left to say , but i ' m gon na ...</td>\n",
       "      <td>449</td>\n",
       "      <td>te</td>\n",
       "    </tr>\n",
       "    <tr>\n",
       "      <th>20505</th>\n",
       "      <td>dead girls academy</td>\n",
       "      <td>i'll find a way</td>\n",
       "      <td>cause i want to wake the fire inside of you , ...</td>\n",
       "      <td>Rock</td>\n",
       "      <td>cause i want to wake the fire inside of you , ...</td>\n",
       "      <td>330</td>\n",
       "      <td>te</td>\n",
       "    </tr>\n",
       "    <tr>\n",
       "      <th>20506</th>\n",
       "      <td>mac mille</td>\n",
       "      <td>unk8</td>\n",
       "      <td>Just a little taste and you know she got you\\n...</td>\n",
       "      <td>Rap</td>\n",
       "      <td>Just a little taste and you know she got you \\...</td>\n",
       "      <td>97</td>\n",
       "      <td>te</td>\n",
       "    </tr>\n",
       "    <tr>\n",
       "      <th>20507</th>\n",
       "      <td>prine, john</td>\n",
       "      <td>linda goes to mars</td>\n",
       "      <td>i just found out yesterday that linda goes to ...</td>\n",
       "      <td>Country</td>\n",
       "      <td>i just found out yesterday that linda goes to ...</td>\n",
       "      <td>209</td>\n",
       "      <td>te</td>\n",
       "    </tr>\n",
       "  </tbody>\n",
       "</table>\n",
       "<p>20508 rows × 7 columns</p>\n",
       "</div>"
      ],
      "text/plain": [
       "                   author                            song  \\\n",
       "0         sammy davis jr.              once in a lifetime   \n",
       "1                      nf                          unk267   \n",
       "2                 pusha-t                           unk81   \n",
       "3         johnny paycheck                spread it around   \n",
       "4                 squeeze             what the butler saw   \n",
       "...                   ...                             ...   \n",
       "20503               big l                          unk127   \n",
       "20504        randy newman  i'm dead (but i don't know it)   \n",
       "20505  dead girls academy                 i'll find a way   \n",
       "20506           mac mille                            unk8   \n",
       "20507         prine, john              linda goes to mars   \n",
       "\n",
       "                                                  lyrics    genre  \\\n",
       "0      once in a lifetime , just once in a lifetime ,...      Pop   \n",
       "1      Started as a dream, grow into reality\\nMade a ...      Rap   \n",
       "2      This that shit that ya'll wanted\\nThis shit so...      Rap   \n",
       "3      if you woke up this morning on the right side ...  Country   \n",
       "4      pacing through the flickering light , a velvet...     Rock   \n",
       "...                                                  ...      ...   \n",
       "20503  Aiyyo; I heard your single, you better make a ...      Rap   \n",
       "20504  i have nothing left to say , but i 'm gon na s...     Rock   \n",
       "20505  cause i want to wake the fire inside of you , ...     Rock   \n",
       "20506  Just a little taste and you know she got you\\n...      Rap   \n",
       "20507  i just found out yesterday that linda goes to ...  Country   \n",
       "\n",
       "                                               tokenized length subset  \n",
       "0      once in a lifetime , just once in a lifetime ,...    102     tr  \n",
       "1      Started as a dream , grow into reality \\n Made...    159     tr  \n",
       "2      This that shit that ya'll wanted \\n This shit ...    193     tr  \n",
       "3      if you woke up this morning on the right side ...    158     tr  \n",
       "4      pacing through the flickering light , a velvet...    273     tr  \n",
       "...                                                  ...    ...    ...  \n",
       "20503  Aiyyo ; I heard your single , you better make ...    155     te  \n",
       "20504  i have nothing left to say , but i ' m gon na ...    449     te  \n",
       "20505  cause i want to wake the fire inside of you , ...    330     te  \n",
       "20506  Just a little taste and you know she got you \\...     97     te  \n",
       "20507  i just found out yesterday that linda goes to ...    209     te  \n",
       "\n",
       "[20508 rows x 7 columns]"
      ]
     },
     "execution_count": 51,
     "metadata": {},
     "output_type": "execute_result"
    }
   ],
   "source": [
    "data"
   ]
  },
  {
   "cell_type": "markdown",
   "metadata": {},
   "source": [
    "### Visualization"
   ]
  },
  {
   "cell_type": "code",
   "execution_count": 53,
   "metadata": {},
   "outputs": [],
   "source": [
    "import matplotlib.pyplot as plt\n",
    "import seaborn as sns\n",
    "from matplotlib import style\n",
    "\n",
    "style.use('seaborn')"
   ]
  },
  {
   "cell_type": "code",
   "execution_count": 54,
   "metadata": {},
   "outputs": [],
   "source": [
    "def plot_train_test(data):\n",
    "    bins = [data[data['subset']==i].count()['length'] for i in ['tr', 'te']]\n",
    "    plt.pie(bins, labels=['tr', 'te'], autopct='%1.1f%%')"
   ]
  },
  {
   "cell_type": "code",
   "execution_count": 55,
   "metadata": {},
   "outputs": [
    {
     "data": {
      "image/png": "[encoded data removed]",
      "text/plain": [
       "<Figure size 576x396 with 1 Axes>"
      ]
     },
     "metadata": {},
     "output_type": "display_data"
    }
   ],
   "source": [
    "plot_train_test(data)"
   ]
  },
  {
   "cell_type": "code",
   "execution_count": 56,
   "metadata": {},
   "outputs": [],
   "source": [
    "def plot_feature(data, feature):\n",
    "    classes = set(data[feature].to_list())\n",
    "\n",
    "    fig, axs = plt.subplots(2, 3, figsize=(20, 10))\n",
    "\n",
    "    for i, sub in enumerate(['tr', 'te', 'all']):\n",
    "        if sub == 'all':\n",
    "            bins = [data[data[feature] == j].count()['length'] for j in classes]\n",
    "        else:\n",
    "            bins =  [data[(data[feature] == j) & \n",
    "                          (data['subset'] == sub)\n",
    "                          ].count()['length'] for j in classes]\n",
    "\n",
    "        axs[0][i].bar(range(len(classes)), bins)\n",
    "        axs[0][i].set_title('Subject distribution in {} data'.format(sub))\n",
    "        axs[1][i].pie(bins, labels=classes, autopct='%1.1f%%')"
   ]
  },
  {
   "cell_type": "code",
   "execution_count": 57,
   "metadata": {},
   "outputs": [
    {
     "data": {
      "image/png": "[encoded data removed]",
      "text/plain": [
       "<Figure size 1440x720 with 6 Axes>"
      ]
     },
     "metadata": {},
     "output_type": "display_data"
    }
   ],
   "source": [
    "plot_feature(data, 'genre')"
   ]
  },
  {
   "cell_type": "code",
   "execution_count": 58,
   "metadata": {},
   "outputs": [],
   "source": [
    "def plot_dist(data, feature, name):\n",
    "    \"\"\"\n",
    "    plot distribution of sentence length feature\n",
    "    \"\"\"\n",
    "    fig, axs = plt.subplots(1, 3, figsize=(20, 4))\n",
    "    \n",
    "    for i, sub in enumerate(['tr', 'te', 'all']):\n",
    "        if sub == 'all':\n",
    "            df = data[feature]\n",
    "        else:\n",
    "            df = data[data['subset']==sub][feature]\n",
    "\n",
    "        sns.distplot(df, bins=20, color='green', ax=axs[i])\n",
    "        axs[i].axvline((df).mean(), \n",
    "                        color='k', \n",
    "                        linestyle='dashed', \n",
    "                        linewidth=1, \n",
    "                        label='mean')\n",
    "        axs[i].axvline((df).median(), \n",
    "                        color='b', \n",
    "                        linestyle='dashed', \n",
    "                        linewidth=1, \n",
    "                        label='median')\n",
    "        axs[i].legend()\n",
    "        axs[i].set(title=\"{} distribution in {} data, {}\".format(feature,sub,name))\n",
    "    plt.show()"
   ]
  },
  {
   "cell_type": "code",
   "execution_count": 59,
   "metadata": {},
   "outputs": [
    {
     "data": {
      "image/png": "[encoded data removed]",
      "text/plain": [
       "<Figure size 1440x288 with 3 Axes>"
      ]
     },
     "metadata": {},
     "output_type": "display_data"
    }
   ],
   "source": [
    "plot_dist(data, 'length', 'song')"
   ]
  },
  {
   "cell_type": "code",
   "execution_count": 495,
   "metadata": {},
   "outputs": [],
   "source": [
    "data.to_csv('./data/final_data.csv', index=False)"
   ]
  }
 ],
 "metadata": {
  "kernelspec": {
   "display_name": "Python 3",
   "language": "python",
   "name": "python3"
  }
 },
 "nbformat": 4,
 "nbformat_minor": 4
}
